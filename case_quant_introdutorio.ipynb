{
 "cells": [
  {
   "cell_type": "markdown",
   "metadata": {},
   "source": [
    "## **Questão 1**"
   ]
  },
  {
   "cell_type": "markdown",
   "metadata": {},
   "source": [
    "#### **Explicando alguns termos**\n"
   ]
  },
  {
   "cell_type": "markdown",
   "metadata": {},
   "source": [
    "##### **1) Backtest**\n",
    "\n",
    "Backtest é o processo de testar uma estrátegia de investimentos ou modelo de trading usando dados históricos. O objetivo de um backtest é\n",
    "avaliar como a estratégia elaborada teria se comportado no passado para, a partir disso, inferir como pode ser o potencial futuro dessa\n",
    "estratégia."
   ]
  },
  {
   "cell_type": "markdown",
   "metadata": {},
   "source": [
    "##### **2) Dividendos**"
   ]
  },
  {
   "cell_type": "markdown",
   "metadata": {},
   "source": [
    "Dividendos são pagamentos distribuidos por uma certa empresa a seus acionistas como uma parcela do lucro da empresa. Eles são uma forma de retorno de investimento para os acionistas e podem ser pagos em dinheiro ou em ações adicionais."
   ]
  },
  {
   "cell_type": "markdown",
   "metadata": {},
   "source": [
    "##### **3) Split**"
   ]
  },
  {
   "cell_type": "markdown",
   "metadata": {},
   "source": [
    "Um split, ou split de ações, é um evento corporativo onde uma certa empresa decide dividir suas ações existentes em um número maior de ações. Isso geralmente é feito para tornar o preço dessas ações mais acessível aos investidores, sem alterar o valor total da empresa."
   ]
  },
  {
   "cell_type": "markdown",
   "metadata": {},
   "source": [
    "##### **4) Reverse split**"
   ]
  },
  {
   "cell_type": "markdown",
   "metadata": {},
   "source": [
    "Um reverse split é um evento corporativo em que uma empresa reduz o número de suas ações em circulação ao consolidar várias ações existentes em uma única ação nova. Isso acaba resultando em um aumento no preço das ações de tal empresa, sem alterar o valor total de mercado da mesma."
   ]
  },
  {
   "cell_type": "markdown",
   "metadata": {},
   "source": [
    "##### **5) Spin-off**"
   ]
  },
  {
   "cell_type": "markdown",
   "metadata": {},
   "source": [
    "Um spin-off é um evento corporativo em que uma empresa cria uma nova empresa independente, separando uma parte de seus negócios. Em tal evento, os acionistas da empresa original geralmente recebem ações da nova empresa, proporcionais a sua participação na empresa original."
   ]
  },
  {
   "cell_type": "markdown",
   "metadata": {},
   "source": [
    "##### **6) Adjustment close**"
   ]
  },
  {
   "cell_type": "markdown",
   "metadata": {},
   "source": [
    "O adjustment close é basicamente o preço de uma ação ajustado a ocorrência de eventos corporativos como dividendos, splits, reverse splits e spin-offs. Esse tipo de ajuste é feito para fornecer uma visão mais precisa do desempenho de uma ação ao longo do tempo, levando em conta as mudanças que afetam o preço."
   ]
  },
  {
   "cell_type": "markdown",
   "metadata": {},
   "source": [
    "#### **Resolução da questão**"
   ]
  },
  {
   "cell_type": "markdown",
   "metadata": {},
   "source": [
    "##### **Instalação de bibliotecas**"
   ]
  },
  {
   "cell_type": "code",
   "execution_count": null,
   "metadata": {},
   "outputs": [],
   "source": [
    "# Instala a bibliotecas que ser utilizada para a importação dos dados necessários para a resolução das questões abaixo.\n",
    "%pip install yfinance"
   ]
  },
  {
   "cell_type": "markdown",
   "metadata": {},
   "source": [
    "##### **Importação de bibliotecas**"
   ]
  },
  {
   "cell_type": "code",
   "execution_count": null,
   "metadata": {},
   "outputs": [],
   "source": [
    "# Importa as bibliotecas que serão utilizadas na resolução das questões abaixo.\n",
    "import yfinance as yf\n",
    "# Importa a biblioteca que será utilizada para a manipulação de DataFrames.\n",
    "import pandas as pd\n",
    "# Importa a biblioteca que será utilizada em operações que envolvam aleatoriedade.\n",
    "import random\n",
    "# Importa a biblioteca que será utilizada para a manipulação de datas.\n",
    "from datetime import datetime\n",
    "# Importa as bibliotecas que serão utilizadas para a criação de gráficos.\n",
    "import plotly.graph_objects as go\n",
    "import matplotlib.pyplot as plt\n",
    "import seaborn as sns\n"
   ]
  },
  {
   "cell_type": "markdown",
   "metadata": {},
   "source": [
    "##### **Setup**"
   ]
  },
  {
   "cell_type": "code",
   "execution_count": null,
   "metadata": {},
   "outputs": [],
   "source": [
    "# Cria uma variável de configuração que conterá dados úteis na resolução das questões abaixo.\n",
    "setup = {\n",
    "    \"start_date\": datetime(2018,1,1).date(),\n",
    "    \"end_date\": datetime(2022,12,31).date(),\n",
    "    \"tickers\": {\n",
    "        \"Vale\":\"VALE3.SA\",\n",
    "        \"Banco do Brasil\": \"BBAS3.SA\",\n",
    "        \"Bradesco\":\"BBDC3.SA\",\n",
    "        \"Itau\":\"ITUB4.SA\",\n",
    "        \"BTG Pactual\":\"BPAC11.SA\",\n",
    "        \"Banco Pan\":\"BPAN4.SA\",\n",
    "        \"Banco de Brasilia\":\"BSLI3.SA\",\n",
    "        \"Banco BMG\":\"BMGB4.SA\",\n",
    "        \"Santander\":\"SANB11.SA\",\n",
    "        \"BR Partners\":\"BRBI11.SA\"\n",
    "    }\n",
    "}"
   ]
  },
  {
   "cell_type": "markdown",
   "metadata": {},
   "source": [
    "##### **Questão 1 - a)** \n",
    "\n",
    "*Obtenha os dados diários das ações da Vale (VALE3)*"
   ]
  },
  {
   "cell_type": "code",
   "execution_count": null,
   "metadata": {},
   "outputs": [],
   "source": [
    "def get_ticker_data(ticker, start_date, end_date):\n",
    "    '''\n",
    "        Description: Essa função é responsável por obter alguns dados sobre as ações de uma determinada empresa em um certo período.\n",
    "        \n",
    "        Args:\n",
    "            ticker (string): Identificador da empresa que se deseja obter os dados.\n",
    "            start_date (string): Primeira data em que se deseja obter os dados sobre as ações da empresa.\n",
    "            end_date (string): última data em que se deseja obter os dados sobre as ações da empesa.\n",
    "        \n",
    "        Return:\n",
    "            data (pandas.DataFrame): DataFrame que contém alguns dados sobre as ações da empresa em questão.\n",
    "    '''\n",
    "    try:\n",
    "        # Obtem o DataFrame que contém alguns dados sobre as ações da empresa solicitada.\n",
    "        data = yf.download(ticker, start_date, end_date)\n",
    "    except Exception as e:\n",
    "        print(f\"Erro ao baixar os dados do ticker {ticker}: {e}\")\n",
    "    \n",
    "    # Retorna o DataFrame que contém os dados obtidos.\n",
    "    return data"
   ]
  },
  {
   "cell_type": "code",
   "execution_count": null,
   "metadata": {},
   "outputs": [],
   "source": [
    "# Salva em uma variável o DataFrame que contém os dados obtidos.\n",
    "VALE_data = get_ticker_data(setup[\"tickers\"][\"Vale\"], setup[\"start_date\"], setup[\"end_date\"])"
   ]
  },
  {
   "cell_type": "code",
   "execution_count": null,
   "metadata": {},
   "outputs": [],
   "source": [
    "# Exibo os dados obtidos.\n",
    "VALE_data"
   ]
  },
  {
   "cell_type": "markdown",
   "metadata": {},
   "source": [
    "##### **Questão 1 - b)**\n",
    "*Obtenha dados diários de um conjunto de 10 ações da B3 (inclua a VALE3 e escolha as outras 9); agrupe-as da forma que preferir. Depois, filtre para obter um dataframe apenas com o preço de fechamento ajustado*"
   ]
  },
  {
   "cell_type": "code",
   "execution_count": null,
   "metadata": {},
   "outputs": [],
   "source": [
    "def get_tickers_data(tickers_list, start_date, end_date):\n",
    "    '''\n",
    "        Description: ...\n",
    "        \n",
    "        Args:\n",
    "            tickers_list (list): Lista contendo as strings que representam os tickers das empresas cujos dados das ações serão obtidos.\n",
    "            start_date (datetime.date()): Data inicial do intervalo onde os dados serão extraidos.\n",
    "            end_date (datetime.date()): Data final do intervalo onde os dados serão extraidos.\n",
    "        \n",
    "        Return:\n",
    "            result (pd.DataFrame): DataFrame contendo os preços de fechamento ajustado durante o período compreendido entre \"start_date\"\n",
    "            e \"end_date\" de todas as empresas cujo ticker esta em \"tickers_list\".       \n",
    "            \n",
    "        Obs: Pode ocorrer que alguma das empresas cujo ticker esta em \"tickers_list\" tenha sido listada na B3 após a data \"start_date\", caso isso\n",
    "        ocorra, o preço de fechamento ajustado de tal empresa será setado como 0 em todas as datas a partir de \"start_date\" até a data em que \n",
    "        essa empresa foi listada na B3.\n",
    "    '''\n",
    "    \n",
    "    # Por conta da variável \"index_union\" que será criada mais abaixo, trataremos o download dos dados do primeiro ticker de forma separada.\n",
    "    # Obtem os dados do primeiro ticker.\n",
    "    first_ticket = yf.download(tickers_list[0], start_date, end_date)\n",
    "    # Cria uma variável que conterá a união (no sentido de conjuntos) de todos os índices de cada um dos tickers pertencentes a \"ticker_list\".\n",
    "    # Ou seja, essa variável guardará os índices (que são as datas onde ocorreu negociação na B3) do ticker pertencente a \"ticker_list\" que foi\n",
    "    # listado primeiro na B3. Faremos isso visando a padronização citada na observação da docstring dessa função.\n",
    "    index_union = first_ticket.index\n",
    "    # Cria uma lista para guardar as séries que representam o \"Adj Close\" de cada um dos tickers em \"ticker_list\".\n",
    "    series_list = []\n",
    "    # Adiciona a série \"Adj Close\" do primeiro ticker em \"ticker_list\" a lista \"series_list\".\n",
    "    series_list.append(first_ticket['Adj Close'])\n",
    "    \n",
    "    # Percorre todos os tickers em ticker_list com exceção do primeiro.\n",
    "    for ticker in tickers_list[1:]:\n",
    "        try:\n",
    "            # Faz o download dos dados ticker em questão no período compreendido entre \"start_date\" e \"end_date\".\n",
    "            ticker_data = yf.download(ticker, start_date, end_date)\n",
    "        except Exception as e:\n",
    "            print(f\"Erro ao baixar os dados do ticker {ticker}: {e}\")\n",
    "            continue\n",
    "        # Faz a união dos índices do ticker em questão com todos os índices dos tickers que foram unidos até então.\n",
    "        index_union = index_union.union(ticker_data.index)\n",
    "        # Adiciona a série \"Adj Close\" do ticker em questão a lista \"series_list\".\n",
    "        series_list.append(ticker_data['Adj Close'])\n",
    "        \n",
    "    # Reindexa todas as séries contidas em \"series_list\" levando em conta os índices em \"index_union\" e preenche eventuais valores faltantes\n",
    "    # como zero.\n",
    "    reindexed_serie_list = [serie.reindex(index_union, fill_value = 0) for serie in series_list]\n",
    "    \n",
    "    # Concatena todas as séries que foram reindexadas acima em um único DataFrame e usa o ticker de cada uma das séries como chave para\n",
    "    # criar níveis superiores.\n",
    "    result = pd.concat(reindexed_serie_list, axis=1, keys=tickers_list)\n",
    "    \n",
    "    # Retorna o DataFrame criado acima.\n",
    "    return result"
   ]
  },
  {
   "cell_type": "code",
   "execution_count": null,
   "metadata": {},
   "outputs": [],
   "source": [
    "# Cria uma lista que contém todos os tickers que estão na variável de configuração \"setup\".\n",
    "tickers_list = list(setup[\"tickers\"].values())\n",
    "# Obtem alguns dados relacionados as ações de cada um dos tickers presentes na \"tickers_list\" criada acima.\n",
    "tickers_data = get_tickers_data(tickers_list, setup['start_date'], setup['end_date'])"
   ]
  },
  {
   "cell_type": "code",
   "execution_count": null,
   "metadata": {},
   "outputs": [],
   "source": [
    "# Exibe os dados obtidos.\n",
    "tickers_data"
   ]
  },
  {
   "cell_type": "markdown",
   "metadata": {},
   "source": [
    "##### **Questão 1 - c)**\n",
    "\n",
    "*Faça um único gráfico contendo a série temporal do preço de fechamento ajustado de cada uma das 10 ações que você escolheu no item anterior.*"
   ]
  },
  {
   "cell_type": "code",
   "execution_count": null,
   "metadata": {},
   "outputs": [],
   "source": [
    "def plot_all_adjusted_close_prices(data):\n",
    "    '''\n",
    "        Description:\n",
    "            Esta função plota ao longo do tempo os preços de fechamento ajustados das ações presentes no DataFrame \"data\".\n",
    "        Args:\n",
    "            data (pandas.DataFrame): DataFrame contendo os preços de fechamento ajustado das ações. Tal DataFrame deve ter datas como índices e\n",
    "            deve ter cada uma de suas colunas representando os preços de fechamento ajustados de um certo ticket.\n",
    "        Return:\n",
    "            None: A função exibe o gráfico gerado, mas não retorna nenhum valor.\n",
    "    '''    \n",
    "    \n",
    "    # Cria uma lista de timestamps que representará o eixo x do gráfico que será plotado.\n",
    "    x_axis = data.index.tolist()\n",
    "    # Cria a figura onde será plotado o gráfico.\n",
    "    fig = go.Figure()\n",
    "\n",
    "    # Adiciona cada série temporal ao gráfico.\n",
    "    for ticker in data.columns:\n",
    "        # Cria uma lista com os preços de fechamento ajustados das ações do ticker em questão.\n",
    "        y_axis = data[ticker].values\n",
    "        # Plota o gráfico (Data x Valor da Ação) do ticker em questão.\n",
    "        fig.add_trace(go.Scatter(x=x_axis, y=y_axis, mode=\"lines\", name=ticker))\n",
    "    \n",
    "    # Atualiza o layout para permitir destaque ao clicar na legenda.\n",
    "    fig.update_layout(\n",
    "        title='Série temporal do preço de fechamento ajustado de algumas ações',\n",
    "        xaxis_title='Data',\n",
    "        yaxis_title='Valor da Ação',\n",
    "        legend_title='Ações',\n",
    "        hovermode='x unified',\n",
    "        clickmode='event+select'\n",
    "    )\n",
    "\n",
    "    # Callback para destacar a linha ao clicar na legenda.\n",
    "    fig.update_traces(\n",
    "        marker=dict(size=12),\n",
    "        selector=dict(mode='markers')\n",
    "    )\n",
    "\n",
    "    # Exibe o gráfico criado.\n",
    "    fig.show()"
   ]
  },
  {
   "cell_type": "code",
   "execution_count": null,
   "metadata": {},
   "outputs": [],
   "source": [
    "# Plota os gráficos (Data x Valor da Ação) de cada uma das empresas cujo ticker está presente em \"tickers_data\".\n",
    "plot_all_adjusted_close_prices(tickers_data)"
   ]
  },
  {
   "cell_type": "markdown",
   "metadata": {},
   "source": [
    "##### **Questão 1 - d)**\n",
    "\n",
    "*Escolha uma das 10 ações e faça um gráfico contendo a média móvel dos últimos 20 dias do preço de fechamento, mais as bandas de Bollinger (dois desvios para cima e dois desvios para baixo). O que a média móvel representa e porque usar as bandas de Bollinger?*"
   ]
  },
  {
   "cell_type": "code",
   "execution_count": null,
   "metadata": {},
   "outputs": [],
   "source": [
    "def get_serie_moving_average(serie, interval):\n",
    "    '''\n",
    "        Description:\n",
    "            Essa função calcula as médias móveis dos dados de uma pd.Series \"serie\" em uma janela de tempo \"interval\".\n",
    "        Args:\n",
    "            serie (pd.Series): Série (coluna) contendo os dados que serão utilizados para o cálculo.\n",
    "            interval (int): Janela de dias em que as médias móveis serão calculadas.\n",
    "        Return:\n",
    "            result (pd.Series): Série (coluna) contendo as médias móveis de \"interval\" dias dos dados da série fornecida.\n",
    "    '''\n",
    "    \n",
    "    # Calcula as médias móveis dos dados da pd.Series \"serie\" na janela de tempo \"interval\" e guarda os resultados na variável \"result\".\n",
    "    result = serie.rolling(window=interval).mean()\n",
    "    \n",
    "    # Lembre que, pela definição de média móvel, se tivermos um conjunto de x dados e quisermos calcular a média móvel desses dados em uma janela \n",
    "    # de tempo t, então teremos (x - t + 1) pontos da média móvel como resultado. Por conta disso, existarão algumas linhas da variável \"result\"\n",
    "    # que serão nulas. \n",
    "    \n",
    "    # Remove as linhas nulas da variável \"result\".\n",
    "    result = result.dropna()\n",
    "    \n",
    "    return result"
   ]
  },
  {
   "cell_type": "code",
   "execution_count": null,
   "metadata": {},
   "outputs": [],
   "source": [
    "def get_serie_moving_std(serie, interval):\n",
    "    '''\n",
    "        Description:\n",
    "            Essa função calcula os desvios padrões móveis dos dados de uma pd.Series \"serie\" em uma janela de tempo \"interval\".\n",
    "        Args:\n",
    "            serie (pd.Series): Série (coluna) contendo os dados que serão utilizados para o cálculo.\n",
    "            interval (int): Janela de dias em que os desvios padrões móveis serão calculados.\n",
    "        Return:\n",
    "            result (pd.Series): Série (coluna) contendo os desvios padrões móveis de \"interval\" dias dos dados da série fornecida.\n",
    "    '''\n",
    "    \n",
    "    # Calcula os desvios padrões móveis dos dados da pd.Series \"serie\" na janela de tempo \"interval\" e guarda os resultados na variável \"result\".\n",
    "    result = serie.rolling(window=interval).std()\n",
    "    \n",
    "    # Lembre que, pela definição de desvio padrão móvel, se tivermos um conjunto de x dados e quisermos calcular os desvios padrões móveis desses\n",
    "    # dados em uma janela de tempo t, então teremos (x - t + 1) pontos de desvio padrão móvel como resultado. Por conta disso, existarão algumas\n",
    "    # linhas da variável \"result\" que serão nulas. \n",
    "    \n",
    "    # Remove as linhas nulas da variável \"result\".\n",
    "    result = result.dropna()\n",
    "    \n",
    "    return result"
   ]
  },
  {
   "cell_type": "code",
   "execution_count": null,
   "metadata": {},
   "outputs": [],
   "source": [
    "def plot_serie_with_boillinger_bands(serie):\n",
    "    '''\n",
    "        Description:\n",
    "            Essa função plota os dados da pd.Series \"serie\" que é recebida por parâmetro. Para tal plot, os índices da pd.Series \"serie\"\n",
    "            são usados como eixo x, enquanto os valores de tal pd.Series são usados como eixo y.\n",
    "        Args:\n",
    "            serie (pd.Series): Série (coluna) contendo os dados que serão utilizados para o plot.\n",
    "        Return:\n",
    "            A função exibe o gráfico gerado, mas não retorna nenhum valor.\n",
    "    '''\n",
    "    \n",
    "    #\n",
    "    #serie_moving_average = get_serie_moving_average(serie, 20)\n",
    "    #\n",
    "    #serie_moving_std = get_serie_moving_std(serie, 20)"
   ]
  },
  {
   "cell_type": "code",
   "execution_count": 24,
   "metadata": {},
   "outputs": [
    {
     "name": "stderr",
     "output_type": "stream",
     "text": [
      "[*********************100%%**********************]  1 of 1 completed"
     ]
    },
    {
     "name": "stdout",
     "output_type": "stream",
     "text": [
      "Date\n",
      "2018-01-02    10.871192\n",
      "2018-01-03    11.009847\n",
      "2018-01-04    11.115492\n",
      "2018-01-05    11.115492\n",
      "2018-01-08    11.141899\n",
      "                ...    \n",
      "2022-12-23    15.713291\n",
      "2022-12-26    15.691023\n",
      "2022-12-27    15.169919\n",
      "2022-12-28    15.441606\n",
      "2022-12-29    15.468328\n",
      "Name: Adj Close, Length: 1239, dtype: float64\n"
     ]
    },
    {
     "name": "stderr",
     "output_type": "stream",
     "text": [
      "\n"
     ]
    }
   ],
   "source": [
    "# Seleciona aleatoriamente um dos tickers existentes na variável de configuração \"setup\".\n",
    "ticker = random.choice(tickers_list)\n",
    "\n",
    "# Obtem os preços de fechamento ajustado do ticker selecionado.\n",
    "ticker_data = get_ticker_data(ticker, setup['start_date'], setup['end_date'])['Adj Close']"
   ]
  },
  {
   "cell_type": "code",
   "execution_count": 23,
   "metadata": {},
   "outputs": [
    {
     "data": {
      "text/plain": [
       "Date\n",
       "2019-12-30    0.358132\n",
       "2020-01-02    0.356716\n",
       "2020-01-03    0.354737\n",
       "2020-01-06    0.343150\n",
       "2020-01-07    0.323702\n",
       "                ...   \n",
       "2022-12-23    0.091933\n",
       "2022-12-26    0.092052\n",
       "2022-12-27    0.092170\n",
       "2022-12-28    0.093324\n",
       "2022-12-29    0.095365\n",
       "Name: Adj Close, Length: 746, dtype: float64"
      ]
     },
     "execution_count": 23,
     "metadata": {},
     "output_type": "execute_result"
    }
   ],
   "source": [
    "\n",
    "\n",
    "moving_std"
   ]
  },
  {
   "cell_type": "markdown",
   "metadata": {},
   "source": [
    "**O que a média móvel representa e porque usar as bandas de Bollinger?**\n",
    "\n",
    "*Resposta aqui*"
   ]
  },
  {
   "cell_type": "markdown",
   "metadata": {},
   "source": [
    "##### **Questão 1 - e)**\n",
    "*Faça um único gráfico contendo o preço de fechamento da ação escolhida e seu Volume (negociado no dia)*"
   ]
  },
  {
   "cell_type": "code",
   "execution_count": null,
   "metadata": {},
   "outputs": [],
   "source": []
  },
  {
   "cell_type": "markdown",
   "metadata": {},
   "source": [
    "##### **Questão 1 - f)**\n",
    "\n",
    "*Faça um gráfico de dispersão (do preço de fechamento ajustado) entre o ativo escolhido anteriormente e outro de sua escolha. Qual sua interpretação?*"
   ]
  },
  {
   "cell_type": "code",
   "execution_count": null,
   "metadata": {},
   "outputs": [],
   "source": []
  },
  {
   "cell_type": "markdown",
   "metadata": {},
   "source": [
    "**Interpretação do gráfico de dispersão acima**\n",
    "\n",
    "*Resposta aqui*"
   ]
  },
  {
   "cell_type": "markdown",
   "metadata": {},
   "source": [
    "##### **Desafio: Faça um gráfico candle stick da ação escolhida.**"
   ]
  },
  {
   "cell_type": "code",
   "execution_count": null,
   "metadata": {},
   "outputs": [],
   "source": []
  }
 ],
 "metadata": {
  "kernelspec": {
   "display_name": "Python 3",
   "language": "python",
   "name": "python3"
  },
  "language_info": {
   "codemirror_mode": {
    "name": "ipython",
    "version": 3
   },
   "file_extension": ".py",
   "mimetype": "text/x-python",
   "name": "python",
   "nbconvert_exporter": "python",
   "pygments_lexer": "ipython3",
   "version": "3.10.12"
  }
 },
 "nbformat": 4,
 "nbformat_minor": 2
}
