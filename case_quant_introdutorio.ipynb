{
 "cells": [
  {
   "cell_type": "markdown",
   "metadata": {},
   "source": [
    "###### TO-DO"
   ]
  },
  {
   "cell_type": "markdown",
   "metadata": {},
   "source": [
    "\n",
    "1. Usar type hint em todas as funções (sempre que necessário, posso usar a biblioteca typing para tal).\n",
    "2. Adicionar RaiseErrors em todas as funções para checar os tipos de dados. Além disso, é interessante colocar esses RaiseErros nas docstrings.\n",
    "3. Fazer comentários sobre cada uma das explicações que são dadas no case original. Na verdade, fazer comentários em todas as células que eu\n",
    "   julgar que eles sejam pertinentes.\n",
    "4. Realizar a interpretação de cada um dos gráficos gerados e escreve-lá em markdown logo abaixo deles.\n",
    "5. Pensar sobre a observação que fiz na geração do histograma dos log-retornos (analisar se devo traçar uma curva normal sobre o histograma e,\n",
    "   principalmente, como deveria ser gerada tal curva)."
   ]
  },
  {
   "cell_type": "markdown",
   "metadata": {
    "slideshow": {
     "slide_type": "slide"
    }
   },
   "source": [
    "##### **Instalação de bibliotecas**"
   ]
  },
  {
   "cell_type": "code",
   "execution_count": null,
   "metadata": {},
   "outputs": [],
   "source": [
    "# Instala a bibliotecas que ser utilizada para a importação dos dados necessários para a resolução das questões abaixo.\n",
    "%pip install yfinance\n",
    "\n",
    "#\n",
    "%pip install --upgrade plotly"
   ]
  },
  {
   "cell_type": "markdown",
   "metadata": {},
   "source": [
    "##### **Importação de bibliotecas**"
   ]
  },
  {
   "cell_type": "code",
   "execution_count": null,
   "metadata": {},
   "outputs": [],
   "source": [
    "# Importa as bibliotecas que serão utilizadas na resolução das questões abaixo.\n",
    "import yfinance as yf\n",
    "# Importa a biblioteca que será utilizada para a manipulação de DataFrames.\n",
    "import pandas as pd\n",
    "# Importa a biblioteca que será utilizada em operações que envolvam aleatoriedade.\n",
    "import random\n",
    "# Importa a biblioteca que será utilizada para a manipulação de datas.\n",
    "from datetime import datetime\n",
    "# Importa as bibliotecas que serão utilizadas para a criação de gráficos.\n",
    "import plotly.graph_objects as go\n",
    "import matplotlib.pyplot as plt\n",
    "import seaborn as sns\n",
    "# Importa a biblioteca que será utilizada para gerar alguns iteradores.\n",
    "import itertools\n",
    "# Importa a biblioteca que será utilizada para lidar com funções matemáticas.\n",
    "import math\n",
    "# Importa a biblioteca que será utilizada para lidar com tipos.\n",
    "from typing import Optional\n",
    "# Importa a biblioteca que será utilizada para algumas operações com vetores.\n",
    "import numpy as np\n",
    "# Importa a biblioteca que será utilizada para lidar com algumas estatísticas.\n",
    "from scipy import stats\n"
   ]
  },
  {
   "cell_type": "markdown",
   "metadata": {},
   "source": [
    "##### **Setup**"
   ]
  },
  {
   "cell_type": "code",
   "execution_count": null,
   "metadata": {},
   "outputs": [],
   "source": [
    "# Cria uma variável de configuração que conterá dados úteis na resolução das questões abaixo.\n",
    "setup = {\n",
    "    \"start_date\": datetime(2018,1,1).date(),\n",
    "    \"end_date\": datetime(2022,12,31).date(),\n",
    "    \"tickers\": {\n",
    "        \"Vale\":\"VALE3.SA\",\n",
    "        \"Banco do Brasil\": \"BBAS3.SA\",\n",
    "        \"Bradesco\":\"BBDC3.SA\",\n",
    "        \"Itau\":\"ITUB4.SA\",\n",
    "        \"BTG Pactual\":\"BPAC11.SA\",\n",
    "        \"Banco Pan\":\"BPAN4.SA\",\n",
    "        \"Banco de Brasilia\":\"BSLI3.SA\",\n",
    "        \"Banco BMG\":\"BMGB4.SA\",\n",
    "        \"Santander\":\"SANB11.SA\",\n",
    "        \"BR Partners\":\"BRBI11.SA\"\n",
    "    }\n",
    "}"
   ]
  },
  {
   "cell_type": "code",
   "execution_count": null,
   "metadata": {},
   "outputs": [],
   "source": [
    "# Essa célula conterá algumas variáveis que serão utilizadas várias vezes durante a resolução do case.\n",
    "\n",
    "# Cria uma lista que contém todos os tickers que estão na variável de configuração \"setup\".\n",
    "tickers_list = list(setup[\"tickers\"].values())\n",
    "\n",
    "# Seleciona aleatoriamente dois dos tickers existentes na variável tickers_list.\n",
    "ticker1, ticker2 = random.sample(tickers_list,2)"
   ]
  },
  {
   "cell_type": "markdown",
   "metadata": {},
   "source": [
    "## **Questão 1**"
   ]
  },
  {
   "cell_type": "markdown",
   "metadata": {},
   "source": [
    "#### **Explicando alguns termos**\n"
   ]
  },
  {
   "cell_type": "markdown",
   "metadata": {},
   "source": [
    "##### **1) Backtest**\n",
    "\n",
    "Backtest é o processo de testar uma estrátegia de investimentos ou modelo de trading usando dados históricos. O objetivo de um backtest é\n",
    "avaliar como a estratégia elaborada teria se comportado no passado para, a partir disso, inferir como pode ser o potencial futuro dessa\n",
    "estratégia."
   ]
  },
  {
   "cell_type": "markdown",
   "metadata": {},
   "source": [
    "##### **2) Dividendos**"
   ]
  },
  {
   "cell_type": "markdown",
   "metadata": {},
   "source": [
    "Dividendos são pagamentos distribuidos por uma certa empresa a seus acionistas como uma parcela do lucro da empresa. Eles são uma forma de retorno de investimento para os acionistas e podem ser pagos em dinheiro ou em ações adicionais."
   ]
  },
  {
   "cell_type": "markdown",
   "metadata": {},
   "source": [
    "##### **3) Split**"
   ]
  },
  {
   "cell_type": "markdown",
   "metadata": {},
   "source": [
    "Um split, ou split de ações, é um evento corporativo onde uma certa empresa decide dividir suas ações existentes em um número maior de ações. Isso geralmente é feito para tornar o preço dessas ações mais acessível aos investidores, sem alterar o valor total da empresa."
   ]
  },
  {
   "cell_type": "markdown",
   "metadata": {},
   "source": [
    "##### **4) Reverse split**"
   ]
  },
  {
   "cell_type": "markdown",
   "metadata": {},
   "source": [
    "Um reverse split é um evento corporativo em que uma empresa reduz o número de suas ações em circulação ao consolidar várias ações existentes em uma única ação nova. Isso acaba resultando em um aumento no preço das ações de tal empresa, sem alterar o valor total de mercado da mesma."
   ]
  },
  {
   "cell_type": "markdown",
   "metadata": {},
   "source": [
    "##### **5) Spin-off**"
   ]
  },
  {
   "cell_type": "markdown",
   "metadata": {},
   "source": [
    "Um spin-off é um evento corporativo em que uma empresa cria uma nova empresa independente, separando uma parte de seus negócios. Em tal evento, os acionistas da empresa original geralmente recebem ações da nova empresa, proporcionais a sua participação na empresa original."
   ]
  },
  {
   "cell_type": "markdown",
   "metadata": {},
   "source": [
    "##### **6) Adjustment close**"
   ]
  },
  {
   "cell_type": "markdown",
   "metadata": {},
   "source": [
    "O adjustment close é basicamente o preço de uma ação ajustado a ocorrência de eventos corporativos como dividendos, splits, reverse splits e spin-offs. Esse tipo de ajuste é feito para fornecer uma visão mais precisa do desempenho de uma ação ao longo do tempo, levando em conta as mudanças que afetam o preço."
   ]
  },
  {
   "cell_type": "markdown",
   "metadata": {},
   "source": [
    "#### **Resolução da questão**"
   ]
  },
  {
   "cell_type": "markdown",
   "metadata": {},
   "source": [
    "##### **Questão 1 - a)** \n",
    "\n",
    "*Obtenha os dados diários das ações da Vale (VALE3)*"
   ]
  },
  {
   "cell_type": "code",
   "execution_count": null,
   "metadata": {},
   "outputs": [],
   "source": [
    "def get_ticker_data(ticker, start_date, end_date):\n",
    "    '''\n",
    "        Description: Essa função é responsável por obter alguns dados sobre as ações de uma determinada empresa em um certo período.\n",
    "        \n",
    "        Args:\n",
    "            ticker (string): Identificador da empresa que se deseja obter os dados.\n",
    "            start_date (string): Primeira data em que se deseja obter os dados sobre as ações da empresa.\n",
    "            end_date (string): Última data em que se deseja obter os dados sobre as ações da empresa.\n",
    "        \n",
    "        Return:\n",
    "            data (pandas.DataFrame): DataFrame que contém alguns dados sobre as ações da empresa em questão.\n",
    "    '''\n",
    "    try:\n",
    "        # Obtem o DataFrame que contém alguns dados sobre as ações da empresa solicitada.\n",
    "        data = yf.download(ticker, start_date, end_date, actions=True) # Usamos actions=True para obter dados sobre dividendos e stock slipts.\n",
    "    except Exception as e:\n",
    "        print(f\"Erro ao baixar os dados do ticker {ticker}: {e}\")\n",
    "    \n",
    "    # Retorna o DataFrame que contém os dados obtidos.\n",
    "    return data"
   ]
  },
  {
   "cell_type": "code",
   "execution_count": null,
   "metadata": {},
   "outputs": [],
   "source": [
    "# Salva em uma variável o DataFrame que contém os dados obtidos.\n",
    "VALE_data = get_ticker_data(setup[\"tickers\"][\"Vale\"], setup[\"start_date\"], setup[\"end_date\"])"
   ]
  },
  {
   "cell_type": "code",
   "execution_count": null,
   "metadata": {},
   "outputs": [],
   "source": [
    "# Exibo os dados obtidos.\n",
    "VALE_data"
   ]
  },
  {
   "cell_type": "markdown",
   "metadata": {},
   "source": [
    "##### **Questão 1 - b)**\n",
    "*Obtenha dados diários de um conjunto de 10 ações da B3 (inclua a VALE3 e escolha as outras 9); agrupe-as da forma que preferir. Depois, filtre para obter um dataframe apenas com o preço de fechamento ajustado*"
   ]
  },
  {
   "cell_type": "code",
   "execution_count": null,
   "metadata": {},
   "outputs": [],
   "source": [
    "def get_tickers_adjusted_close_price(tickers_list, start_date, end_date):\n",
    "    '''\n",
    "        Description: ...\n",
    "        \n",
    "        Args:\n",
    "            tickers_list (list): Lista contendo as strings que representam os tickers das empresas cujos dados das ações serão obtidos.\n",
    "            start_date (datetime.date()): Data inicial do intervalo onde os dados serão extraidos.\n",
    "            end_date (datetime.date()): Data final do intervalo onde os dados serão extraidos.\n",
    "        \n",
    "        Return:\n",
    "            result (pd.DataFrame): DataFrame contendo os preços de fechamento ajustado durante o período compreendido entre \"start_date\"\n",
    "            e \"end_date\" de todas as empresas cujo ticker esta em \"tickers_list\".       \n",
    "            \n",
    "        Obs: Pode ocorrer que alguma das empresas cujo ticker esta em \"tickers_list\" tenha sido listada na B3 após a data \"start_date\", caso isso\n",
    "        ocorra, o preço de fechamento ajustado de tal empresa será setado como 0 em todas as datas a partir de \"start_date\" até a data em que \n",
    "        essa empresa foi listada na B3.\n",
    "    '''\n",
    "    \n",
    "    # Por conta da variável \"index_union\" que será criada mais abaixo, trataremos o download dos dados do primeiro ticker de forma separada.\n",
    "    # Obtem os dados do primeiro ticker.\n",
    "    first_ticket = yf.download(tickers_list[0], start_date, end_date, actions = True) # Usamos actions=True para obter dados sobre dividendos e stock slipts.\n",
    "    # Cria uma variável que conterá a união (no sentido de conjuntos) de todos os índices de cada um dos tickers pertencentes a \"ticker_list\".\n",
    "    # Ou seja, essa variável guardará os índices (que são as datas onde ocorreu negociação na B3) do ticker pertencente a \"ticker_list\" que foi\n",
    "    # listado primeiro na B3. Faremos isso visando a padronização citada na observação da docstring dessa função.\n",
    "    index_union = first_ticket.index\n",
    "    # Cria uma lista para guardar as séries que representam o \"Adj Close\" de cada um dos tickers em \"ticker_list\".\n",
    "    series_list = []\n",
    "    # Adiciona a série \"Adj Close\" do primeiro ticker em \"ticker_list\" a lista \"series_list\".\n",
    "    series_list.append(first_ticket['Adj Close'])\n",
    "    \n",
    "    # Percorre todos os tickers em ticker_list com exceção do primeiro.\n",
    "    for ticker in tickers_list[1:]:\n",
    "        try:\n",
    "            # Faz o download dos dados ticker em questão no período compreendido entre \"start_date\" e \"end_date\".\n",
    "            ticker_data = yf.download(ticker, start_date, end_date)\n",
    "        except Exception as e:\n",
    "            print(f\"Erro ao baixar os dados do ticker {ticker}: {e}\")\n",
    "            continue\n",
    "        # Faz a união dos índices do ticker em questão com todos os índices dos tickers que foram unidos até então.\n",
    "        index_union = index_union.union(ticker_data.index)\n",
    "        # Adiciona a série \"Adj Close\" do ticker em questão a lista \"series_list\".\n",
    "        series_list.append(ticker_data['Adj Close'])\n",
    "        \n",
    "    # Reindexa todas as séries contidas em \"series_list\" levando em conta os índices em \"index_union\" e preenche eventuais valores faltantes\n",
    "    # como zero.\n",
    "    reindexed_serie_list = [serie.reindex(index_union, fill_value = 0) for serie in series_list]\n",
    "    \n",
    "    # Concatena todas as séries que foram reindexadas acima em um único DataFrame e usa o ticker de cada uma das séries como chave para\n",
    "    # criar níveis superiores.\n",
    "    result = pd.concat(reindexed_serie_list, axis=1, keys=tickers_list)\n",
    "    \n",
    "    # Retorna o DataFrame criado acima.\n",
    "    return result"
   ]
  },
  {
   "cell_type": "code",
   "execution_count": null,
   "metadata": {},
   "outputs": [],
   "source": [
    "# Obtem alguns dados relacionados as ações de cada um dos tickers presentes na \"tickers_list\" criada acima.\n",
    "tickers_data = get_tickers_adjusted_close_price(tickers_list, setup['start_date'], setup['end_date'])"
   ]
  },
  {
   "cell_type": "code",
   "execution_count": null,
   "metadata": {},
   "outputs": [],
   "source": [
    "# Exibe os dados obtidos.\n",
    "tickers_data"
   ]
  },
  {
   "cell_type": "markdown",
   "metadata": {},
   "source": [
    "##### **Questão 1 - c)**\n",
    "\n",
    "*Faça um único gráfico contendo a série temporal do preço de fechamento ajustado de cada uma das 10 ações que você escolheu no item anterior.*"
   ]
  },
  {
   "cell_type": "code",
   "execution_count": null,
   "metadata": {},
   "outputs": [],
   "source": [
    "def plot_all_adjusted_close_prices(data):\n",
    "    '''\n",
    "        Description:\n",
    "            Esta função plota ao longo do tempo os preços de fechamento ajustados das ações presentes no DataFrame \"data\".\n",
    "        Args:\n",
    "            data (pandas.DataFrame): DataFrame contendo os preços de fechamento ajustado das ações. Tal DataFrame deve ter datas como índices e\n",
    "            deve ter cada uma de suas colunas representando os preços de fechamento ajustados de um certo ticket.\n",
    "        Return:\n",
    "            None: A função exibe o gráfico gerado, mas não retorna nenhum valor.\n",
    "    '''    \n",
    "    \n",
    "    # Cria uma lista de timestamps que representará o eixo x do gráfico que será plotado.\n",
    "    x_axis = data.index.tolist()\n",
    "    # Cria a figura onde será plotado o gráfico.\n",
    "    fig = go.Figure()\n",
    "\n",
    "    # Adiciona cada série temporal ao gráfico.\n",
    "    for ticker in data.columns:\n",
    "        # Cria uma lista com os preços de fechamento ajustados das ações do ticker em questão.\n",
    "        y_axis = data[ticker].values\n",
    "        # Plota o gráfico (Data x Valor da Ação) do ticker em questão.\n",
    "        fig.add_trace(go.Scatter(x=x_axis, y=y_axis, mode=\"lines\", name=ticker))\n",
    "    \n",
    "    # Atualiza o layout para permitir destaque ao clicar na legenda.\n",
    "    fig.update_layout(\n",
    "        title='Série temporal do preço de fechamento ajustado de algumas ações',\n",
    "        xaxis_title='Data',\n",
    "        yaxis_title='Valor da Ação',\n",
    "        legend_title='Ações',\n",
    "        hovermode='x unified',\n",
    "        clickmode='event+select'\n",
    "    )\n",
    "\n",
    "    # Callback para destacar a linha ao clicar na legenda.\n",
    "    fig.update_traces(\n",
    "        marker=dict(size=12),\n",
    "        selector=dict(mode='markers')\n",
    "    )\n",
    "\n",
    "    # Exibe o gráfico criado.\n",
    "    fig.show()"
   ]
  },
  {
   "cell_type": "code",
   "execution_count": null,
   "metadata": {},
   "outputs": [],
   "source": [
    "# Plota os gráficos (Data x Valor da Ação) de cada uma das empresas cujo ticker está presente em \"tickers_data\".\n",
    "plot_all_adjusted_close_prices(tickers_data)"
   ]
  },
  {
   "cell_type": "markdown",
   "metadata": {},
   "source": [
    "##### **Questão 1 - d)**\n",
    "\n",
    "*Escolha uma das 10 ações e faça um gráfico contendo a média móvel dos últimos 20 dias do preço de fechamento, mais as bandas de Bollinger (dois desvios para cima e dois desvios para baixo). O que a média móvel representa e porque usar as bandas de Bollinger?*"
   ]
  },
  {
   "cell_type": "code",
   "execution_count": null,
   "metadata": {},
   "outputs": [],
   "source": [
    "def get_serie_moving_average(serie, interval):\n",
    "    '''\n",
    "        Description:\n",
    "            Essa função calcula as médias móveis dos dados de uma pd.Series \"serie\" em uma janela de tempo \"interval\".\n",
    "        Args:\n",
    "            serie (pd.Series): Série (coluna) contendo os dados que serão utilizados para o cálculo.\n",
    "            interval (int): Janela de dias em que as médias móveis serão calculadas.\n",
    "        Return:\n",
    "            result (pd.Series): Série (coluna) contendo as médias móveis de \"interval\" dias dos dados da série fornecida.\n",
    "    '''\n",
    "    \n",
    "    # Calcula as médias móveis dos dados da pd.Series \"serie\" na janela de tempo \"interval\" e guarda os resultados na variável \"result\".\n",
    "    result = serie.rolling(window=interval).mean()\n",
    "    \n",
    "    # Lembre que, pela definição de média móvel, se tivermos um conjunto de x dados e quisermos calcular a média móvel desses dados em uma janela \n",
    "    # de tempo t, então teremos (x - t + 1) pontos da média móvel como resultado. Por conta disso, existarão algumas linhas da variável \"result\"\n",
    "    # que serão nulas. \n",
    "    \n",
    "    # Remove as linhas nulas da variável \"result\".\n",
    "    result = result.dropna()\n",
    "    \n",
    "    return result"
   ]
  },
  {
   "cell_type": "code",
   "execution_count": null,
   "metadata": {},
   "outputs": [],
   "source": [
    "def get_serie_moving_std(serie, interval):\n",
    "    '''\n",
    "        Description:\n",
    "            Essa função calcula os desvios padrões móveis dos dados de uma pd.Series \"serie\" em uma janela de tempo \"interval\".\n",
    "        Args:\n",
    "            serie (pd.Series): Série (coluna) contendo os dados que serão utilizados para o cálculo.\n",
    "            interval (int): Janela de dias em que os desvios padrões móveis serão calculados.\n",
    "        Return:\n",
    "            result (pd.Series): Série (coluna) contendo os desvios padrões móveis de \"interval\" dias dos dados da série fornecida.\n",
    "    '''\n",
    "    \n",
    "    # Calcula os desvios padrões móveis dos dados da pd.Series \"serie\" na janela de tempo \"interval\" e guarda os resultados na variável \"result\".\n",
    "    result = serie.rolling(window=interval).std()\n",
    "    \n",
    "    # Lembre que, pela definição de desvio padrão móvel, se tivermos um conjunto de x dados e quisermos calcular os desvios padrões móveis desses\n",
    "    # dados em uma janela de tempo t, então teremos (x - t + 1) pontos de desvio padrão móvel como resultado. Por conta disso, existarão algumas\n",
    "    # linhas da variável \"result\" que serão nulas. \n",
    "    \n",
    "    # Remove as linhas nulas da variável \"result\".\n",
    "    result = result.dropna()\n",
    "    \n",
    "    return result"
   ]
  },
  {
   "cell_type": "code",
   "execution_count": null,
   "metadata": {},
   "outputs": [],
   "source": [
    "def plot_serie_moving_average_with_boillinger_bands(serie, interval, ticker=\"\"):\n",
    "    '''\n",
    "        Description:\n",
    "            Essa função plota as médias móveis dos dados da serie temporal \"serie\", juntamente das bandas de bollinger de tais médias moveis. \n",
    "            Para tal plot, os índices da serie temporal \"serie\" são usados como eixo x. Por conta disso, é esperado que tais índices sejam\n",
    "            objetos do tipo datetime ou similares.\n",
    "        Args:\n",
    "            serie (pd.Series): Série (coluna) contendo os dados que serão utilizados para o plot.\n",
    "            interval (int): Intervalo cujas estatísticas móveis serão calculadas.\n",
    "            ticker (string) [opcional]: String contendo o nome do ticker cujos dados serão plotados no gráfico.\n",
    "        Return:\n",
    "            A função exibe o gráfico gerado, mas não retorna nenhum valor.\n",
    "    '''\n",
    "    \n",
    "    # Calcula a média móvel de \"interval\" dias para a série temporal recebida como parâmetro.\n",
    "    serie_moving_average = get_serie_moving_average(serie, interval)\n",
    "    # Calcula o desvio padrão móvel de \"interval\" dias para a série temporal recebida como parâmetro.\n",
    "    serie_moving_std = get_serie_moving_std(serie, interval)\n",
    "    \n",
    "    # Cria uma lista de timestamps que representará o eixo x do gráfico que será plotado.\n",
    "    x_axis = serie.index.tolist()\n",
    "    \n",
    "    # Calcula as bandas superior e inferior de Bollinger.\n",
    "    aux = 2*serie_moving_std.values\n",
    "    upper_band = serie_moving_average.values + aux\n",
    "    lower_band = serie_moving_average.values - aux\n",
    "    \n",
    "    # Cria a figura onde será plotado o gráfico.\n",
    "    fig = go.Figure()\n",
    "\n",
    "    # Adiciona a série temporal do preço no plot.\n",
    "    fig.add_trace(go.Scatter(x=x_axis, y=serie.values, mode=\"lines\", name=f\"Preço de fechamento do ativo\",line=dict(color=\"black\",width=2)))\n",
    "    # Adiciona a série temporal da média móvel no plot.\n",
    "    fig.add_trace(go.Scatter(x=x_axis, y=serie_moving_average.values, mode=\"lines\", name=f\"Média móvel de {interval} dias\",line=dict(color=\"red\",width=2)))\n",
    "    # Adiciona as séries temporais das bandas superior e inferior de Bollinger no plot.\n",
    "    fig.add_trace(go.Scatter(x=x_axis, y=upper_band, mode=\"lines\", name=f\"Banda de Bollinger superior\", line=dict(color=\"blue\", width=2)))\n",
    "    fig.add_trace(go.Scatter(x=x_axis, y=lower_band, mode=\"lines\", name=f\"Banda de Bollinger inferior\", line=dict(color=\"blue\", width=2)))\n",
    "    \n",
    "    # Adiciona legendas aos eixos do gráfico.\n",
    "    fig.update_layout(\n",
    "        title=f\"Evolução temporal do preço do ativo {ticker}\",\n",
    "        xaxis_title='Data',\n",
    "        yaxis_title='Valor',\n",
    "    )\n",
    "\n",
    "    # Exibe o gráfico criado.\n",
    "    fig.show()"
   ]
  },
  {
   "cell_type": "code",
   "execution_count": null,
   "metadata": {},
   "outputs": [],
   "source": [
    "# Obtem os preços de fechamento ajustado do ticker_1.\n",
    "ticker1_adj_close_price = get_ticker_data(ticker1, setup['start_date'], setup['end_date'])['Adj Close']"
   ]
  },
  {
   "cell_type": "code",
   "execution_count": null,
   "metadata": {},
   "outputs": [],
   "source": [
    "plot_serie_moving_average_with_boillinger_bands(ticker1_adj_close_price, 20, ticker1)"
   ]
  },
  {
   "cell_type": "markdown",
   "metadata": {},
   "source": [
    "**O que a média móvel representa e porque usar as bandas de Bollinger?**\n",
    "\n",
    "*A média móvel é uma técnica estatística utilizada para suavizar dados ao calcular a média de um conjunto de valores dentro de um intervalo específico de tempo. Isso reduz o impacto de flutuações e ruídos, permitindo uma melhor visualização de tendências e padrões na série temporal. Além disso, a média móvel é frequentemente utilizada para identificar sinais de compra e venda em análise técnica.*\n",
    "\n",
    "*As Bandas de Bollinger são um indicador técnico que mede a volatilidade de uma série temporal. Elas são compostas por uma média móvel e duas bandas situadas dois desvios padrão acima e abaixo dessa média móvel. A ideia é que, em uma distribuição normal, aproximadamente 95% dos dados estão dentro desse intervalo. Isso permite aos analistas identificar condições de sobrecompra ou sobrevenda, além de ajudar a entender a volatilidade do mercado.*"
   ]
  },
  {
   "cell_type": "markdown",
   "metadata": {},
   "source": [
    "##### **Questão 1 - e)**\n",
    "*Faça um único gráfico contendo o preço de fechamento da ação escolhida e seu Volume (negociado no dia)*"
   ]
  },
  {
   "cell_type": "code",
   "execution_count": null,
   "metadata": {},
   "outputs": [],
   "source": [
    "# Obtem dados relacionados as ações do ticker_1.\n",
    "ticker1_data = get_ticker_data(ticker1,setup[\"start_date\"],setup[\"end_date\"])"
   ]
  },
  {
   "cell_type": "code",
   "execution_count": null,
   "metadata": {},
   "outputs": [],
   "source": [
    "def plot_close_prices_with_volume(closing_prices_serie: pd.Series, volume_serie: pd.Series) -> None:\n",
    "    '''\n",
    "        Description:\n",
    "            Esta função cria um gráfico que exibe a evolução temporal dos preços de fechamento de um ativo financeiro,\n",
    "            junto com o volume de negociação correspondente para cada dia. Os preços de fechamento são plotados em uma linha\n",
    "            no eixo y principal, enquanto o volume de negociação é exibido como um histograma no eixo y secundário.\n",
    "            \n",
    "            A função utiliza dois eixos y para permitir a visualização simultânea de dados com escalas diferentes:\n",
    "            - O eixo y principal mostra os preços de fechamento.\n",
    "            - O eixo y secundário, sobreposto ao eixo y principal, mostra o volume de negociação.\n",
    "\n",
    "        Args:\n",
    "            closing_prices_serie (pd.Series): Série temporal contendo os preços de fechamento do ativo.\n",
    "            volume_serie (pd.Series): Série temporal contendo os volumes de negociação do ativo.\n",
    "\n",
    "        Return:\n",
    "            A função exibe o gráfico gerado, mas não retorna nenhum valor.\n",
    "    '''\n",
    "    \n",
    "    # PS: O site https://coolors.co/ foi usado para gerar algumas cores que serão usadas nessa função.\n",
    "    \n",
    "    # Verifica o tipo das variáveis recebidas por parâmetro.\n",
    "    if not isinstance(closing_prices_serie, pd.Series):\n",
    "        raise TypeError(\"O parâmetro 'closing_prices_serie' deve ser um objeto do tipo pd.Series.\")\n",
    "    if not isinstance(volume_serie, pd.Series):\n",
    "        raise TypeError(\"O parâmetro 'volume_serie' deve ser um objeto do tipo pd.Series.\")\n",
    "    \n",
    "    # Cria a figure onde o gráfico será exibido.\n",
    "    fig = go.Figure()\n",
    "    \n",
    "    # Adiciona ao plot o histograma que mostrará o volume de negociação em cada dia.\n",
    "    fig.add_trace(go.Bar(\n",
    "        # Cria o eixo x do histograma (que será o mesmo eixo x do gráfico de linha).\n",
    "        x=volume_serie.index,\n",
    "        # Cria o eixo y secundário (y2) onde será plotado os valores do histograma.\n",
    "        y=volume_serie.values,\n",
    "        # Cria o nome do eixo y secundário (y2).\n",
    "        name=\"Volume de negociação\",\n",
    "        # Escolhe a cor das barras.\n",
    "        marker=dict(color=\"black\"),\n",
    "        # Seta um eixo y específico (secundário) para o gráfico de barras (com intuito de não atrapalhar a escala de nenhum dos dois gráficos).\n",
    "        yaxis=\"y2\",\n",
    "    ))\n",
    "    \n",
    "    # OBS: Com o intuito de que o gráfico da série temporal de preços sobreponha o gráfico de barras, construimos primeiro o histograma e o \n",
    "    # colocamos no eixo y2 (secundário) e, após isso, construimos a série temporal de preços e a colocamos no eixo y1 (principal).\n",
    "    \n",
    "    # Adiciona a série temporal de preços ao plot.\n",
    "    fig.add_trace(go.Scatter(\n",
    "        # Cria o eixo x gráfico de linha (que é o mesmo eixo x do histograma).\n",
    "        x=closing_prices_serie.index,\n",
    "        # Cria o eixo y principal (y1) onde serão plotados os valores do gráfico de linha.\n",
    "        y=closing_prices_serie.values,\n",
    "        # Seta o tipo do gráfico como sendo um gráfico de linha.\n",
    "        mode=\"lines\",\n",
    "        # Cria o nome do eixo y principal (y1) do gráfico de linha.\n",
    "        name=\"Preço\",\n",
    "        # Seta a cor do gráfico de linhas.\n",
    "        line=dict(color=\"#B26E63\"),\n",
    "        # Seta um eixo y específico (principal) para o gráfico de linha (com intuito de não atrapalhar a escala de nenhum dos dois gráficos).\n",
    "        yaxis=\"y1\",\n",
    "    ))\n",
    "    \n",
    "    # Seta algumas configurações para o plot que será gerado.\n",
    "    fig.update_layout(\n",
    "        # Seta o título do plot.\n",
    "        title=\"Preços de Fechamento e Volume de Negociação\",\n",
    "        # Seta o título do eixo x do plot.\n",
    "        xaxis_title=\"Data\",\n",
    "        # Seta o título do eixo y do plot.\n",
    "        yaxis_title=\"Preço e Volume de Negociação\",\n",
    "        # Define algumas configurações para o eixo y principal (y1).\n",
    "        yaxis=dict(\n",
    "            # Seta o título do eixo y principal (y1).\n",
    "            title=\"Preço\",\n",
    "            overlaying='y2', # Indica que o eixo y atual deve se sobrepor ao eixo y secundário (y2).\n",
    "        ),\n",
    "        # Define algumas configurações para o eixo y secundário (y2).\n",
    "        yaxis2=dict(\n",
    "            # Seta o título do eixo y secundário (y2).\n",
    "            title=\"Volume de Negociação\",\n",
    "            # Define o lado em que o eixo y secundário (y2) aparecerá\n",
    "            side='right',\n",
    "            # Opta por não exibir o grid (linhas horizontais brancas do gráfico) para os valores de escala do eixo y secundário (y2).\n",
    "            showgrid = False\n",
    "        ),\n",
    "        # Seta a cor de fundo da área de plotagem\n",
    "        plot_bgcolor='#1A1B25', \n",
    "        # Seta a cor de fundo da figura\n",
    "        paper_bgcolor='white', # Essa é a cor padrão, só escrevi esse parâmetro aqui para saber que ele existe.\n",
    "    )\n",
    "    \n",
    "    # Exibe o gráfico\n",
    "    fig.show()"
   ]
  },
  {
   "cell_type": "code",
   "execution_count": null,
   "metadata": {},
   "outputs": [],
   "source": [
    "# Obtem a série temporal dos preços de fechamento do ticker em questão.\n",
    "ticker1_closing_prices_serie = ticker1_data['Adj Close']\n",
    "# Obtem a série temporal do volume diário de negociação do ticker em questão.\n",
    "ticker1_volume_serie = ticker1_data['Volume']\n",
    "\n",
    "# Plota o gráfico dos (Preços de Fechamento x Volume de Negociação) para o ticker em questão.\n",
    "plot_close_prices_with_volume(ticker1_closing_prices_serie,ticker1_volume_serie)"
   ]
  },
  {
   "cell_type": "markdown",
   "metadata": {},
   "source": [
    "##### **Questão 1 - f)**\n",
    "\n",
    "*Faça um gráfico de dispersão (do preço de fechamento ajustado) entre o ativo escolhido anteriormente e outro de sua escolha. Qual sua interpretação?*"
   ]
  },
  {
   "cell_type": "code",
   "execution_count": null,
   "metadata": {},
   "outputs": [],
   "source": [
    "# Obs: Como os dados de ticker1 (ticker1_data) já foram obtidos anteriormente, não precisamos repetir tal processo.\n",
    "\n",
    "# Obtem os dados do ticker2.\n",
    "ticker2_data = get_ticker_data(ticker2,setup[\"start_date\"],setup[\"end_date\"])\n",
    "\n",
    "# Salva em uma variável a série temporal dos preços de fechamento ajustados associados as ações da empresa representada por \"ticker2\".\n",
    "ticker2_adj_close_price = ticker2_data['Adj Close']\n",
    "\n",
    "# No intuito de facilitar a geração de legendas para os gráficos, atribuiremos os valores de \"ticker1\" e \"ticker2\" ao atributo name das séries\n",
    "# temporais de fechamento de preço associados a cada uma dessas variáveis.\n",
    "ticker1_adj_close_price.name = ticker1\n",
    "ticker2_adj_close_price.name = ticker2"
   ]
  },
  {
   "cell_type": "code",
   "execution_count": null,
   "metadata": {},
   "outputs": [],
   "source": [
    "def plot_comparative_dispersion_graphs(serie1: pd.Series, serie2: pd.Series) -> None:\n",
    "    '''\n",
    "        Description:\n",
    "            Essa função é responsável por exibir em um mesmo plot dois gráficos de dispersão, sendo cada um desses gráficos associados a uma\n",
    "            das séries temporais recebidas como parâmetro\n",
    "        Args:\n",
    "            serie1 (pd.Series): Série temporal contendo os valores que serão plotados em um dos gráficos de dispersão. \n",
    "            serie2 (pd.Series): Série temporal contendo os valores que serão plotados no outro gráfico de dispersão.\n",
    "        Return:\n",
    "            Essa função exibe os gráficos descritos, mas não retorna nada.\n",
    "            \n",
    "        Obs: Para que o plot faça sentido, é quase que necessário que ambas as séries temporais \"serie1\" e \"serie2\" tenham os mesmos índices.\n",
    "    '''\n",
    "    \n",
    "    # Cria a figure onde o gráfico será plotado.\n",
    "    fig = go.Figure()\n",
    "    \n",
    "    # Plota o primeiro gráfico de dispersão.\n",
    "    fig.add_trace(\n",
    "        # Seta algumas características no gráfico em questão.\n",
    "        trace=(go.Scatter(\n",
    "            # Seta os valores do eixo x do primeiro gráfico de dispersão.\n",
    "            x = serie1.index,\n",
    "            # Seta os valores do eixo y do primeiro gráfico de dispersão.\n",
    "            y = serie1.values,\n",
    "            # Atribui um nome ao primeiro gráfico de dispersão.\n",
    "            name = serie1.name,\n",
    "            # Seta o gráfico atual como um gráfico de dispersão.\n",
    "            mode=\"markers\", # Modo responsável por gerar o gráfico de dispersão.\n",
    "            # Atribui uma cor aos pontos do gráfico de dispersão em questão.\n",
    "            line=dict(\n",
    "                color=\"black\"\n",
    "            )\n",
    "        ))\n",
    "    )\n",
    "    \n",
    "    # Plota o segundo gráfico de dispersão\n",
    "    fig.add_trace(\n",
    "        # Seta algumas características no gráfico em questão.\n",
    "        trace=(go.Scatter(\n",
    "            # Seta os valores do eixo x do segundo gráfico de dispersão.\n",
    "            x = serie2.index,\n",
    "            # Seta os valores do eixo y do segundo gráfico de dispersão.\n",
    "            y = serie2.values,\n",
    "            # Atribui um nome ao segundo gráfico de dispersão.\n",
    "            name = serie2.name,\n",
    "            # Seta o gráfico atual como um gráficode dispersão.\n",
    "            mode=\"markers\", # Modo responsável por gerar o gráfico de dispersão.\n",
    "            # Atribui uma cor aos pontos do gráfico de dispersão em questão.\n",
    "            line=dict(\n",
    "                color=\"red\"\n",
    "            )\n",
    "        ))\n",
    "    )\n",
    "    \n",
    "    # Seta algumas configurações no plot.\n",
    "    fig.update_layout(\n",
    "        # Seta o título do plot.\n",
    "        title=f\"Comparativo entre os gráficos de dispersão de {serie1.name} e {serie2.name}\",\n",
    "        # Seta o título do eixo x do plot.\n",
    "        xaxis_title=\"Data\",\n",
    "        # Seta o título do eixo y do plot.\n",
    "        yaxis_title=\"Valor\"\n",
    "    )\n",
    "    \n",
    "    # Exibe o plot gerado.\n",
    "    fig.show()"
   ]
  },
  {
   "cell_type": "code",
   "execution_count": null,
   "metadata": {},
   "outputs": [],
   "source": [
    "# Plota os gráficos de dispersão dos dois tickers (\"ticker1\" e \"ticker2\"). \n",
    "plot_comparative_dispersion_graphs(ticker1_adj_close_price,ticker2_adj_close_price)"
   ]
  },
  {
   "cell_type": "markdown",
   "metadata": {},
   "source": [
    "**Interpretação do gráfico de dispersão acima**\n",
    "\n",
    "*Creio que a ideia de plotar dois gráficos de dispersão em uma mesmo plot é observar se existe alguma correlação entre as ações que cada um\n",
    "dos gráficos representa. Sendo assim, com base na observação do gráfico acima, é correto dizer que existe certa correlação entre ambas as ações, e existem hipóteses fortes para isso, como por exemplo, ambas são ações bancárias. Contudo, é de suma importação lembrar que eventuais correlações não implicam causalidade.*"
   ]
  },
  {
   "cell_type": "markdown",
   "metadata": {},
   "source": [
    "##### **Desafio: Faça um gráfico candle stick da ação escolhida.**"
   ]
  },
  {
   "cell_type": "code",
   "execution_count": null,
   "metadata": {},
   "outputs": [],
   "source": [
    "def isIndexEqual(serie_list: list):\n",
    "    '''\n",
    "        Description:\n",
    "            Essa função é responsável por verificar se os índices das séries temporais contidas em serie_list são iguais ou não.\n",
    "        Args:   \n",
    "            serie_list (list): Lista que contém as séries temporais cujos índices serão verificados.\n",
    "        Return:\n",
    "            True se os índices de todas as séries temporais em serie_list forem iguals, False caso contrário.\n",
    "    '''\n",
    "    \n",
    "    # Usaremos o método combinations da biblioteca itertools para gerar todas as combinações possíveis de objetos da lists \"serie_list\"\n",
    "    for serie1, serie2 in itertools.combinations(serie_list,2): \n",
    "        # Lembre que, a combinação é um modo de se contar a quantidade de subconjuntos distintos de tamanho n possíveis de serem \n",
    "        # formados em um dado conjunto maior, sendo que, em tal estratégia, a ordem não importa.\n",
    "        \n",
    "        # Caso os índices de algum par de séries temporais não seja igual, False é retornado.\n",
    "        if not(serie1.index.equals(serie2.index)): return False\n",
    "        \n",
    "    # Caso os índices de todos os pares de séries temporais sejam iguais, ou seja, se os índices de todas as séries temporais forem iguais,\n",
    "    # então True é retornado.\n",
    "    return True"
   ]
  },
  {
   "cell_type": "code",
   "execution_count": null,
   "metadata": {},
   "outputs": [],
   "source": [
    "def plot_candle_stick_graph(open_price_serie:pd.Series, high_price_serie:pd.Series, low_price_serie:pd.Series, closed_price_serie:pd.Series,\n",
    "                            ticker_name = \"\"):\n",
    "    '''\n",
    "        Description:\n",
    "            Gera um gráfico de candlestick que representa a evolução temporal das ações de um determinado ativo. \n",
    "        Args:   \n",
    "            open_price_serie (pd.Series): Série temporal que contém os dados dos preços de abertura do ativo em cada dia.\n",
    "            high_price_serie (pd.Series): Série temporal que contém os dados dos preços mais altos do ativo em cada dia.\n",
    "            low_price_serie (pd.Series): Série temporal que contém os dados dos preços mais baixos do ativo em cada dia..\n",
    "            closed_price_serie (pd.Series): Série temporal que contém os dados dos preços de fechamento do ativo em cada dia.\n",
    "            ticker_name (string) [opcional]: Nome do ticker que representa o ativo em questão.\n",
    "        Return:\n",
    "            None: A função exibe o gráfico de candlestick, mas não retorna nenhum valor.\n",
    "            \n",
    "        Obs: É de suma importância que os índices de todas as séries temporais sejam iguais e representem algum tipo de evolução temporal.\n",
    "    '''\n",
    "    \n",
    "    # Verifica se os índices de todas as séries temporais fornecidas são iguais, caso não sejam, um erro é retornado.\n",
    "    if not(isIndexEqual([open_price_serie,high_price_serie,low_price_serie,closed_price_serie])):\n",
    "        raise ValueError(\"Os índices das séries temporais fornecidas são distintos.\")\n",
    "    \n",
    "    # Cria a figure onde o gráfico de candlestick será plotado.\n",
    "    fig = go.Figure()\n",
    "    \n",
    "    # Cria o gráfico de candlestick.\n",
    "    fig.add_trace(go.Candlestick(\n",
    "        # Observe que a operação abaixo somente pode ser usada pois, nesse ponto do código, todos os índices das séries temporais são iguais.\n",
    "        # Seta os valores do eixo x do gráfico em questão (isto é, as datas da série temporal).\n",
    "        x=open_price_serie.index, \n",
    "        # Seta os valores de abertura de preço. em cada dia da série temporal.\n",
    "        open=open_price_serie.values,\n",
    "        # Seta os maiores valores de preço em cada dia da série temporal.\n",
    "        high=high_price_serie.values,\n",
    "        # Seta os menos valores de preço de cada dia da série temporal.\n",
    "        low=low_price_serie.values,\n",
    "        # Seta os valores de fechamento de preço de cada dia da série temporal.\n",
    "        close=closed_price_serie.values\n",
    "    ))\n",
    "    \n",
    "    # Seta o título do gráfico de candlestick, a depender se o parâmetro opcional \"ticker_name\" foi passado ou não.\n",
    "    graph_title = \"Gráfico de Candlestick de \" + ticker_name if ticker_name != \"\" else \"Gráfico de Candlestick\"\n",
    "    \n",
    "    # Seta algumas legendas no plot.\n",
    "    fig.update_layout(\n",
    "        # Seta o título do plot.\n",
    "        title=graph_title,\n",
    "        # Seta o título do eixo x do plot.\n",
    "        xaxis_title='Data',\n",
    "        # Seta o título do eixo y do plot.\n",
    "        yaxis_title='Preço',\n",
    "        # Impede a criação automática de um slider para o eixo x.\n",
    "        xaxis_rangeslider_visible=False)\n",
    "    \n",
    "    # Exibe o gráfico de candlestick gerado.\n",
    "    fig.show()\n",
    "    "
   ]
  },
  {
   "cell_type": "code",
   "execution_count": null,
   "metadata": {},
   "outputs": [],
   "source": [
    "# Usaremos a variável \"ticker1\" para o plot.\n",
    "plot_candle_stick_graph(ticker1_data['Open'], ticker1_data['High'], ticker1_data['Low'], ticker1_data['Close'], ticker1)"
   ]
  },
  {
   "cell_type": "markdown",
   "metadata": {},
   "source": [
    "## **Questão 2**"
   ]
  },
  {
   "cell_type": "markdown",
   "metadata": {},
   "source": [
    "### **Retornos**"
   ]
  },
  {
   "cell_type": "markdown",
   "metadata": {},
   "source": [
    "### **Resolução da questão**"
   ]
  },
  {
   "cell_type": "markdown",
   "metadata": {},
   "source": [
    "##### **Questão 2 - a)**"
   ]
  },
  {
   "cell_type": "markdown",
   "metadata": {},
   "source": [
    "*Calcule o retorno total (entre o valor final e o valor do começo), pelo formato discreto (simples) e logarítmico de uma ação de sua escolha*\n",
    "\n",
    "*Recomenda-se ser a mesma ação da questão anterior*"
   ]
  },
  {
   "cell_type": "code",
   "execution_count": null,
   "metadata": {},
   "outputs": [],
   "source": [
    "def get_arithmetic_total_return(ticker: str, start_date: str, end_date:str) -> float:\n",
    "    '''\n",
    "        Description: \n",
    "            Essa função calcula o retorno aritmético total entre \"start_date\" e \"end_date\" de uma dada ação e retorna tal resultado.\n",
    "        Args:\n",
    "            ticker (string): String contendo o ticker da ação cujo retorno aritmético total será calculado.\n",
    "            start_date (string): Primeira data em que se deseja obter os dados sobre as ações.\n",
    "            end_date (string): Última data em que se deseja obter os dados sobre as ações.\n",
    "        Return:\n",
    "            result (float): Valor do retorno aritmético total calculado.\n",
    "    ''' \n",
    "    \n",
    "    # Obtem alguns dados relacionados as ações do ticker recebido via parâmetro de função.\n",
    "    ticker_data = get_ticker_data(ticker, start_date, end_date)\n",
    "    \n",
    "    # Obtem o valor inicial da série temporal.\n",
    "    initial_value = ticker_data.head(1)['Adj Close'].values[0]\n",
    "\n",
    "    # Obtem o valor final da série temporal.\n",
    "    final_value = ticker_data.tail(1)['Adj Close'].values[0]\n",
    "    \n",
    "    # Calcula a soma dos dividendos pagos pela ação em questão.\n",
    "    dividends_sum = ticker_data['Dividends'].sum()\n",
    "\n",
    "    # Calcula o retorno bruto para a ação em questão.\n",
    "    gross_return = (final_value + dividends_sum)/ initial_value # Observe que, caso a ação não pague dividendos temos que\n",
    "                                                                                # ocorrerá dividends_sum = 0. Ou seja, somar dividends_sum não \n",
    "                                                                                # influencia o valor de gross_return caso a ação em questão não\n",
    "                                                                                # pague dividendos.\n",
    "    \n",
    "    # Retorna o valor do retorno aritmético da ação em questão.\n",
    "    return gross_return - 1 "
   ]
  },
  {
   "cell_type": "code",
   "execution_count": null,
   "metadata": {},
   "outputs": [],
   "source": [
    "def get_logarithmic_total_return(ticker: str, start_date: str, end_date:str) -> float:\n",
    "    '''\n",
    "        Description: \n",
    "            Essa função calcula o retorno logarítmico total entre \"start_date\" e \"end_date\" de uma dada ação e retorna tal resultado.\n",
    "        Args:\n",
    "            ticker (string): String contendo o ticker da ação cujo retorno logarítmico total será calculado.\n",
    "        Return:\n",
    "            result (float): Valor do retorno logarítmico total calculado.\n",
    "    ''' \n",
    "\n",
    "    # Obtem o retorno aritmético total da ação em questão.\n",
    "    arithmetic_return = get_arithmetic_total_return(ticker, start_date, end_date)\n",
    "    \n",
    "    if arithmetic_return <= 0:\n",
    "        raise ValueError(\"O retorno aritmético da ação em questão é negativo. Logo, não é possível obter o retorno logarítmico de tal ação.\")\n",
    "    \n",
    "    # Somando 1 ao retorno obtido acima e tirando o logarítmo natural de tal resultado obtemos o retorno logarítmico total. Sendo assim,\n",
    "    # calculamos o retorno logarítmico total e o retornamos.\n",
    "    return math.log(arithmetic_return + 1)"
   ]
  },
  {
   "cell_type": "code",
   "execution_count": null,
   "metadata": {},
   "outputs": [],
   "source": [
    "# Calcula o retorno aritmético total para a ação representada pelo ticker em ticker1.\n",
    "arithmetic_total_return = get_arithmetic_total_return(ticker1, setup['start_date'], setup['end_date'])\n",
    "# Exibe o resultado obtido.\n",
    "print(f\"\\nO retorno aritmético total da ação {ticker1} entre o período {setup['start_date']} e {setup['end_date']} foi de aproximadamente {arithmetic_total_return*100:.2f}%\")"
   ]
  },
  {
   "cell_type": "code",
   "execution_count": null,
   "metadata": {},
   "outputs": [],
   "source": [
    "# Calcula o retorno logarítmico total para a ação representada pelo ticker em ticker1.\n",
    "logarithmic_total_return = get_logarithmic_total_return(ticker1, setup['start_date'], setup['end_date'])\n",
    "# Exibe o resultado obtido.\n",
    "print(f\"\\nO retorno logarítmico total da ação {ticker1} entre o período {setup['start_date']} e {setup['end_date']} foi de aproximadamente {logarithmic_total_return*100:.2f}%\")"
   ]
  },
  {
   "cell_type": "markdown",
   "metadata": {},
   "source": [
    "**Observação:**"
   ]
  },
  {
   "cell_type": "markdown",
   "metadata": {},
   "source": [
    "**Qual é a diferença fundamental entre os retornos aritméticos e logarítmicos ?**\n",
    "\n",
    "Retorno Aritmético: \n",
    "- É a forma mais direta e intuitiva de calcular o retorno, representando a diferença percentual entre o valor inicial e o final do investimento. É mais fácil de entender e usar em cálculos simples, mas não é ideal para combinações de retornos em períodos diferentes.\n",
    "\n",
    "\n",
    "Retorno Logarítmico: \n",
    "- Tem a vantagem de ser aditivo ao longo do tempo e é mais adequado para compor retornos em múltiplos períodos. O retorno logarítmico é útil para entender o crescimento percentual composto."
   ]
  },
  {
   "cell_type": "markdown",
   "metadata": {},
   "source": [
    "#### **Questão 2 - b)**"
   ]
  },
  {
   "cell_type": "markdown",
   "metadata": {},
   "source": [
    "*Construa um dataframe com os retornos diário ao longo de todo o período, pelo formato discreto (simples) e logarítmico da mesma ação*"
   ]
  },
  {
   "cell_type": "code",
   "execution_count": null,
   "metadata": {},
   "outputs": [],
   "source": [
    "# Uso a função pct_change() na série temporal dos preços ajustados para calcular os retornos aritméticos diários, já que, por padrão, \n",
    "# é isso que essa função faz.\n",
    "ticker1_daily_arithmetic_return = ticker1_data['Adj Close'].pct_change()\n",
    "\n",
    "# Removo eventuais dados 'NaN'\n",
    "ticker1_daily_arithmetic_return = ticker1_daily_arithmetic_return.dropna()\n",
    "\n",
    "# Exibo o resultado obtido\n",
    "print(ticker1_daily_arithmetic_return)"
   ]
  },
  {
   "cell_type": "code",
   "execution_count": null,
   "metadata": {},
   "outputs": [],
   "source": [
    "# Abaixo criamos uma função lambda que transforma um retorno aritmético em um retorno logarítmico para que, com base na série temporal dos\n",
    "# retornos aritméticos, seja criada uma série temporal dos retornos logarítmicos.\n",
    "# PS: Como o retorno logarítmico só pode ser calculado para um valor de retorno aritmético > 0, setaremos como None o resultado da operação da\n",
    "# função lambda, caso tal função se depare com um retorno aritmético < 0.\n",
    "ticker1_daily_logarithmic_return = ticker1_daily_arithmetic_return.apply(lambda x : math.log(1 + x) if (1+x) > 0 else None)\n",
    "\n",
    "# Remove os valores \"NaN\".\n",
    "ticker1_daily_logarithmic_return = ticker1_daily_logarithmic_return.dropna()\n",
    "\n",
    "# Exibe o resultado obtido.\n",
    "print(ticker1_daily_logarithmic_return)"
   ]
  },
  {
   "cell_type": "markdown",
   "metadata": {},
   "source": [
    "#### **Questão 2 - c)**"
   ]
  },
  {
   "cell_type": "markdown",
   "metadata": {},
   "source": [
    "*Faça um gráfico da série de log-retornos*"
   ]
  },
  {
   "cell_type": "code",
   "execution_count": null,
   "metadata": {},
   "outputs": [],
   "source": [
    "def plot_time_serie_line_graph(serie: pd.Series, serie_title: Optional[str] = \"\", serie_xaxis_title: Optional[str] = \"\", \n",
    "                               serie_yaxis_title: Optional[str] = \"\") -> None:\n",
    "    '''\n",
    "        Description:\n",
    "            Essa função é responsável por realizar o plot de uma série temporal.\n",
    "        Args:\n",
    "            serie (pd.Series): Série temporal cujos dados serão utilizados para o plot. Os valores de tal série temporal estarão no eixo y,\n",
    "            enquanto os índices dessa série estarão no eixo x.\n",
    "            title (string):\n",
    "            xaxis_title (string):\n",
    "            yaxis_title (string):\n",
    "            \n",
    "        Return:\n",
    "            Essa função plota a série temporal, mas não retorna nada.\n",
    "    '''\n",
    "    \n",
    "    # Cria a figure onde a série temporal em questão será plotada.\n",
    "    fig = go.Figure()\n",
    "    \n",
    "    # Adiciona o gráfico da série temporal em questão ao plot.\n",
    "    fig.add_trace(go.Scatter(\n",
    "        # Define os valores do eixo x do plot.\n",
    "        x = serie.index,\n",
    "        # Define os valores do eixo y do plot.\n",
    "        y = serie.values,\n",
    "        # Define o tipo do gráfico que será plotado.\n",
    "        mode = \"lines\"\n",
    "    ))\n",
    "    \n",
    "    # Adiciona algumas legendas ao plot.\n",
    "    fig.update_layout(\n",
    "        # Adiciona um título ao plot.\n",
    "        title = serie_title,\n",
    "        # Adiciona uma legenda ao eixo x do plot.\n",
    "        xaxis_title = serie_xaxis_title,\n",
    "        # Adiciona uma legenda ao eixo y do plot.\n",
    "        yaxis_title = serie_yaxis_title\n",
    "    )\n",
    "    \n",
    "    # Exibe o plot criado.\n",
    "    fig.show()"
   ]
  },
  {
   "cell_type": "code",
   "execution_count": null,
   "metadata": {},
   "outputs": [],
   "source": [
    "# Cria um título para o plot.\n",
    "title = f\"Retornos logarítmicos diários de {ticker1}\"\n",
    "# Cria uma legenda para o eixo x do plot.\n",
    "xaxis_title = \"Data\"\n",
    "# Cria uma legenda para o eixo y do plot.\n",
    "yaxis_title = \"Valor\"\n",
    "\n",
    "# Cria o plot da série temporal dos log retornos diários do \"ticker1\".\n",
    "plot_time_serie_line_graph(ticker1_daily_logarithmic_return, title, xaxis_title, yaxis_title)"
   ]
  },
  {
   "cell_type": "markdown",
   "metadata": {},
   "source": [
    "#### **Questão 2 - d)**"
   ]
  },
  {
   "cell_type": "markdown",
   "metadata": {},
   "source": [
    "*Uma forma de checarmos graficamente se os retornos seguem uma distribuição normal é fazendo o histograma dos log-retornos. Para as ações da Vale, e mais 3 de sua escolha, faça um histograma*"
   ]
  },
  {
   "cell_type": "code",
   "execution_count": null,
   "metadata": {},
   "outputs": [],
   "source": [
    "def plot_time_serie_histogram(data: pd.Series, nbins: Optional[int]=70, histogram_title: Optional[str]=\"\", \n",
    "                              histogram_xaxis_title: Optional[str]=\"\", histogram_yaxis_title: Optional[str]=\"\"):\n",
    "    '''\n",
    "        Description:\n",
    "            Essa função exibe um histograma que é gerado com base na densidade de probabilidade dos valores de uma série temporal. Por padrão,\n",
    "            tal histograma é gerado com 70 barras e sem títulos.\n",
    "        Args:\n",
    "            data (pd.Series): Série temporal que contém os dados que serão usados.\n",
    "            nbins (int) [optional]: Número de barras que serão exibidas (default é 70).\n",
    "            histogram_title (str) [optional]: Título do histograma (default é \"\").\n",
    "            histogram_xaxis_title (str) [optional]: Título do eixo x do histograma (default é \"\").\n",
    "            histogram_yaxis_title (str) [optional]: Título do eixo y do histograma (default é \"\").\n",
    "        Return:\n",
    "            A função exibe o histograma, mas não retorna nada.\n",
    "    '''\n",
    "    \n",
    "    # Cria a figure onde sera plotado o histograma.\n",
    "    fig = go.Figure()\n",
    "\n",
    "    # Cria o histograma que será plotado.\n",
    "    fig.add_trace(go.Histogram(\n",
    "        # Seta os valores que serão utilizados no histograma.\n",
    "        x=data.values,\n",
    "        # Seta o número de barras que serão utilizadas no histograma.\n",
    "        nbinsx=nbins,\n",
    "        # Seta o tipo de histograma, no caso em questão, teremos um histograma de densidade de probabilidades. Isto é, a soma das áreas de\n",
    "        # cada barra é igual à 1.\n",
    "        histnorm=\"probability density\",\n",
    "        # Seta a cor das barras como azul.\n",
    "        marker=dict(color=\"blue\")\n",
    "    ))\n",
    "\n",
    "    # Adiciona algumas legendas ao histograma.\n",
    "    fig.update_layout(\n",
    "        # Adiciona um título ao histograma.\n",
    "        title=dict(text=histogram_title),\n",
    "        # Adiciona um título ao eixo x do histograma.\n",
    "        xaxis_title=dict(text=histogram_xaxis_title),\n",
    "        # Adiciona um título ao eixo y do histograma.\n",
    "        yaxis_title=dict(text=histogram_yaxis_title),\n",
    "        bargap=0.2\n",
    "    )\n",
    "    \n",
    "    # Exibe o plot.\n",
    "    fig.show()\n",
    "    \n",
    "    # PS: Me parece interessante pensar em uma forma de gerar uma curva normal para comparar com o histograma no mesmo plot."
   ]
  },
  {
   "cell_type": "code",
   "execution_count": null,
   "metadata": {},
   "outputs": [],
   "source": [
    "# Cria um título para o histograma.\n",
    "histogram_title = f\"Histograma dos Log-retornos diários de {ticker1}\"\n",
    "# Cria um título para o eixo x do histograma.\n",
    "histogram_xaxis_title = \"Log-retorno diário\"\n",
    "# Cria um título para o eixo y do histograma.\n",
    "histogram_yaxis_title = \"Densidade de probabilidade\"\n",
    "\n",
    "# Exibe o histograma.\n",
    "plot_time_serie_histogram(ticker1_daily_logarithmic_return, histogram_title=histogram_title, histogram_xaxis_title=histogram_xaxis_title, \n",
    "                          histogram_yaxis_title=histogram_yaxis_title)"
   ]
  },
  {
   "cell_type": "markdown",
   "metadata": {},
   "source": [
    "### **Estatísticas**"
   ]
  },
  {
   "cell_type": "markdown",
   "metadata": {},
   "source": [
    "Estatística é uma área extremamente ampla, cujas ferramentas são primordiais para as Finanças ao embasarem diversas teorias, conceitos e fórmulas. O conceito de __distribuição normal__ e desvios da normalidade, como __skewness__ e __kurtosis__, por exemplo, são aplicados aos retornos de investimentos e baseiam diversas teorias como: \n",
    "\n",
    "* Teoria das Carteiras \n",
    "* Modelo de precificação dos ativos (Capital Asset Pricing Model - CAPM)\n",
    "* Hipótese dos Mercados Eficientes (Efficient Market Hypotesis - EMH)\n",
    "* Precificação de Opções\n",
    "\n",
    "Além disso, modelos estatísticos mais avançados são a base do Aprendizado de Máquinas (ou Aprendizado Estatístico), o qual encontra cada vez mais espaço nas finanças e possibilita estratégias de investimentos sistemáticos. Encontraremos alguns de suas apliações nos próximos desafios, por agora iremos focar em testar a normalidade dos retornos. \n",
    "\n",
    "obs: recomendamos utilizarem os pacotes  __statsmodels.api__ e __scipy.stats__ "
   ]
  },
  {
   "cell_type": "markdown",
   "metadata": {},
   "source": [
    "### **Continuando a resolução**"
   ]
  },
  {
   "cell_type": "markdown",
   "metadata": {},
   "source": [
    "#### **Questão 2 - e)**"
   ]
  },
  {
   "cell_type": "code",
   "execution_count": null,
   "metadata": {},
   "outputs": [],
   "source": []
  },
  {
   "cell_type": "code",
   "execution_count": null,
   "metadata": {},
   "outputs": [],
   "source": []
  },
  {
   "cell_type": "markdown",
   "metadata": {},
   "source": [
    "#### **Questão 2 - f)**"
   ]
  },
  {
   "cell_type": "code",
   "execution_count": null,
   "metadata": {},
   "outputs": [],
   "source": []
  },
  {
   "cell_type": "code",
   "execution_count": null,
   "metadata": {},
   "outputs": [],
   "source": []
  }
 ],
 "metadata": {
  "kernelspec": {
   "display_name": "Python 3",
   "language": "python",
   "name": "python3"
  },
  "language_info": {
   "codemirror_mode": {
    "name": "ipython",
    "version": 3
   },
   "file_extension": ".py",
   "mimetype": "text/x-python",
   "name": "python",
   "nbconvert_exporter": "python",
   "pygments_lexer": "ipython3",
   "version": "3.10.12"
  }
 },
 "nbformat": 4,
 "nbformat_minor": 2
}
