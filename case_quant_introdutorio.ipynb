{
 "cells": [
  {
   "cell_type": "markdown",
   "metadata": {},
   "source": [
    "## **Questão 1**"
   ]
  },
  {
   "cell_type": "markdown",
   "metadata": {},
   "source": [
    "#### **Explicando alguns termos**\n"
   ]
  },
  {
   "cell_type": "markdown",
   "metadata": {},
   "source": [
    "##### **1) Backtest**\n",
    "\n",
    "Backtest é o processo de testar uma estrátegia de investimentos ou modelo de trading usando dados históricos. O objetivo de um backtest é\n",
    "avaliar como a estratégia elaborada teria se comportado no passado para, a partir disso, inferir como pode ser o potencial futuro dessa\n",
    "estratégia."
   ]
  },
  {
   "cell_type": "markdown",
   "metadata": {},
   "source": [
    "##### **2) Dividendos**"
   ]
  },
  {
   "cell_type": "markdown",
   "metadata": {},
   "source": [
    "Dividendos são pagamentos distribuidos por uma certa empresa a seus acionistas como uma parcela do lucro da empresa. Eles são uma forma de retorno de investimento para os acionistas e podem ser pagos em dinheiro ou em ações adicionais."
   ]
  },
  {
   "cell_type": "markdown",
   "metadata": {},
   "source": [
    "##### **3) Split**"
   ]
  },
  {
   "cell_type": "markdown",
   "metadata": {},
   "source": [
    "Um split, ou split de ações, é um evento corporativo onde uma certa empresa decide dividir suas ações existentes em um número maior de ações. Isso geralmente é feito para tornar o preço dessas ações mais acessível aos investidores, sem alterar o valor total da empresa."
   ]
  },
  {
   "cell_type": "markdown",
   "metadata": {},
   "source": [
    "##### **4) Reverse split**"
   ]
  },
  {
   "cell_type": "markdown",
   "metadata": {},
   "source": [
    "Um reverse split é um evento corporativo em que uma empresa reduz o número de suas ações em circulação ao consolidar várias ações existentes em uma única ação nova. Isso acaba resultando em um aumento no preço das ações de tal empresa, sem alterar o valor total de mercado da mesma."
   ]
  },
  {
   "cell_type": "markdown",
   "metadata": {},
   "source": [
    "##### **5) Spin-off**"
   ]
  },
  {
   "cell_type": "markdown",
   "metadata": {},
   "source": [
    "Um spin-off é um evento corporativo em que uma empresa cria uma nova empresa independente, separando uma parte de seus negócios. Em tal evento, os acionistas da empresa original geralmente recebem ações da nova empresa, proporcionais a sua participação na empresa original."
   ]
  },
  {
   "cell_type": "markdown",
   "metadata": {},
   "source": [
    "##### **6) Adjustment close**"
   ]
  },
  {
   "cell_type": "markdown",
   "metadata": {},
   "source": [
    "O adjustment close é basicamente o preço de uma ação ajustado a ocorrência de eventos corporativos como dividendos, splits, reverse splits e spin-offs. Esse tipo de ajuste é feito para fornecer uma visão mais precisa do desempenho de uma ação ao longo do tempo, levando em conta as mudanças que afetam o preço."
   ]
  },
  {
   "cell_type": "markdown",
   "metadata": {},
   "source": [
    "#### **Resolução da questão**"
   ]
  },
  {
   "cell_type": "markdown",
   "metadata": {},
   "source": [
    "##### **Instalação de bibliotecas**"
   ]
  },
  {
   "cell_type": "code",
   "execution_count": null,
   "metadata": {},
   "outputs": [],
   "source": [
    "# Instala a bibliotecas que ser utilizada para a importação dos dados necessários para a resolução das questões abaixo.\n",
    "%pip install yfinance"
   ]
  },
  {
   "cell_type": "markdown",
   "metadata": {},
   "source": [
    "##### **Importação de bibliotecas**"
   ]
  },
  {
   "cell_type": "code",
   "execution_count": null,
   "metadata": {},
   "outputs": [],
   "source": [
    "# Importa as bibliotecas que serão utilizadas na resolução das questões abaixo.\n",
    "import yfinance as yf\n",
    "# Importa a biblioteca que sera utilizada para a manipulação de DataFrames.\n",
    "import pandas as pd\n",
    "# Importa a biblioteca que sera utilizada para a manipulação de datas.\n",
    "from datetime import datetime\n",
    "# Importa as bibliotecas que serão utilizadas para a criação de gráficos.\n",
    "import plotly.graph_objects as go\n",
    "import matplotlib.pyplot as plt\n",
    "import seaborn as sns\n"
   ]
  },
  {
   "cell_type": "markdown",
   "metadata": {},
   "source": [
    "##### **Setup**"
   ]
  },
  {
   "cell_type": "code",
   "execution_count": null,
   "metadata": {},
   "outputs": [],
   "source": [
    "# Cria uma variável de configuração que conterá dados úteis na resolução das questões abaixo.\n",
    "setup = {\n",
    "    \"start_date\": datetime(2018,1,1).date(),\n",
    "    \"end_date\": datetime(2022,12,31).date(),\n",
    "    \"tickers\": {\n",
    "        \"Vale\":\"VALE3.SA\",\n",
    "        \"Banco do Brasil\": \"BBAS3.SA\",\n",
    "        \"Bradesco\":\"BBDC3.SA\",\n",
    "        \"Itau\":\"ITUB4.SA\",\n",
    "        \"BTG Pactual\":\"BPAC11.SA\",\n",
    "        \"Banco Pan\":\"BPAN4.SA\",\n",
    "        \"Banco de Brasilia\":\"BSLI3.SA\",\n",
    "        \"Banco BMG\":\"BMGB4.SA\",\n",
    "        \"Santander\":\"SANB11.SA\",\n",
    "        \"BR Partners\":\"BRBI11.SA\"\n",
    "    }\n",
    "}"
   ]
  },
  {
   "cell_type": "markdown",
   "metadata": {},
   "source": [
    "##### **Questão 1 - a)** \n",
    "\n",
    "*Obtenha os dados diários das ações da Vale (VALE3)*"
   ]
  },
  {
   "cell_type": "code",
   "execution_count": 140,
   "metadata": {},
   "outputs": [],
   "source": [
    "def get_ticker_data(ticker, start_date, end_date):\n",
    "    '''\n",
    "        Description: Essa função é responsável por obter alguns dados sobre as ações de uma determinada empresa em um certo período.\n",
    "        \n",
    "        Args:\n",
    "            ticker (string): Identificador da empresa que se deseja obter os dados.\n",
    "            start_date (string): Primeira data em que se deseja obter os dados sobre as ações da empresa.\n",
    "            end_date (string): última data em que se deseja obter os dados sobre as ações da empesa.\n",
    "        \n",
    "        Return:\n",
    "            data (pandas.DataFrame): DataFrame que contém alguns dados sobre as ações da empresa em questão.\n",
    "    '''\n",
    "    try:\n",
    "        # Obtem o DataFrame que contém alguns dados sobre as ações da empresa solicitada.\n",
    "        data = yf.download(ticker, start_date, end_date)\n",
    "    except Exception as e:\n",
    "        print(f\"Erro ao baixar os dados do ticker {ticker}: {e}\")\n",
    "    \n",
    "    # Retorna o DataFrame que contém os dados obtidos.\n",
    "    return data"
   ]
  },
  {
   "cell_type": "code",
   "execution_count": 141,
   "metadata": {},
   "outputs": [
    {
     "name": "stderr",
     "output_type": "stream",
     "text": [
      "[*********************100%%**********************]  1 of 1 completed\n"
     ]
    }
   ],
   "source": [
    "# Salva em uma variável o DataFrame que contém os dados obtidos.\n",
    "VALE_data = get_ticker_data(setup[\"tickers\"][\"Vale\"], setup[\"start_date\"], setup[\"end_date\"])"
   ]
  },
  {
   "cell_type": "code",
   "execution_count": 142,
   "metadata": {},
   "outputs": [
    {
     "data": {
      "text/html": [
       "<div>\n",
       "<style scoped>\n",
       "    .dataframe tbody tr th:only-of-type {\n",
       "        vertical-align: middle;\n",
       "    }\n",
       "\n",
       "    .dataframe tbody tr th {\n",
       "        vertical-align: top;\n",
       "    }\n",
       "\n",
       "    .dataframe thead th {\n",
       "        text-align: right;\n",
       "    }\n",
       "</style>\n",
       "<table border=\"1\" class=\"dataframe\">\n",
       "  <thead>\n",
       "    <tr style=\"text-align: right;\">\n",
       "      <th></th>\n",
       "      <th>Open</th>\n",
       "      <th>High</th>\n",
       "      <th>Low</th>\n",
       "      <th>Close</th>\n",
       "      <th>Adj Close</th>\n",
       "      <th>Volume</th>\n",
       "    </tr>\n",
       "    <tr>\n",
       "      <th>Date</th>\n",
       "      <th></th>\n",
       "      <th></th>\n",
       "      <th></th>\n",
       "      <th></th>\n",
       "      <th></th>\n",
       "      <th></th>\n",
       "    </tr>\n",
       "  </thead>\n",
       "  <tbody>\n",
       "    <tr>\n",
       "      <th>2018-01-02</th>\n",
       "      <td>40.439999</td>\n",
       "      <td>41.740002</td>\n",
       "      <td>40.439999</td>\n",
       "      <td>41.720001</td>\n",
       "      <td>26.179440</td>\n",
       "      <td>14156500</td>\n",
       "    </tr>\n",
       "    <tr>\n",
       "      <th>2018-01-03</th>\n",
       "      <td>41.830002</td>\n",
       "      <td>41.880001</td>\n",
       "      <td>41.299999</td>\n",
       "      <td>41.470001</td>\n",
       "      <td>26.022556</td>\n",
       "      <td>12744200</td>\n",
       "    </tr>\n",
       "    <tr>\n",
       "      <th>2018-01-04</th>\n",
       "      <td>41.810001</td>\n",
       "      <td>42.369999</td>\n",
       "      <td>41.520000</td>\n",
       "      <td>41.639999</td>\n",
       "      <td>26.129232</td>\n",
       "      <td>18433000</td>\n",
       "    </tr>\n",
       "    <tr>\n",
       "      <th>2018-01-05</th>\n",
       "      <td>41.570000</td>\n",
       "      <td>42.290001</td>\n",
       "      <td>41.310001</td>\n",
       "      <td>42.290001</td>\n",
       "      <td>26.537107</td>\n",
       "      <td>15251300</td>\n",
       "    </tr>\n",
       "    <tr>\n",
       "      <th>2018-01-08</th>\n",
       "      <td>42.400002</td>\n",
       "      <td>43.230000</td>\n",
       "      <td>42.400002</td>\n",
       "      <td>43.230000</td>\n",
       "      <td>27.126963</td>\n",
       "      <td>14542800</td>\n",
       "    </tr>\n",
       "    <tr>\n",
       "      <th>...</th>\n",
       "      <td>...</td>\n",
       "      <td>...</td>\n",
       "      <td>...</td>\n",
       "      <td>...</td>\n",
       "      <td>...</td>\n",
       "      <td>...</td>\n",
       "    </tr>\n",
       "    <tr>\n",
       "      <th>2022-12-23</th>\n",
       "      <td>85.279999</td>\n",
       "      <td>86.519997</td>\n",
       "      <td>85.080002</td>\n",
       "      <td>86.320000</td>\n",
       "      <td>77.709404</td>\n",
       "      <td>18656500</td>\n",
       "    </tr>\n",
       "    <tr>\n",
       "      <th>2022-12-26</th>\n",
       "      <td>86.419998</td>\n",
       "      <td>87.540001</td>\n",
       "      <td>86.330002</td>\n",
       "      <td>87.110001</td>\n",
       "      <td>78.420601</td>\n",
       "      <td>18407500</td>\n",
       "    </tr>\n",
       "    <tr>\n",
       "      <th>2022-12-27</th>\n",
       "      <td>88.000000</td>\n",
       "      <td>89.650002</td>\n",
       "      <td>87.470001</td>\n",
       "      <td>89.190002</td>\n",
       "      <td>80.293121</td>\n",
       "      <td>26720300</td>\n",
       "    </tr>\n",
       "    <tr>\n",
       "      <th>2022-12-28</th>\n",
       "      <td>89.190002</td>\n",
       "      <td>90.209999</td>\n",
       "      <td>88.699997</td>\n",
       "      <td>88.989998</td>\n",
       "      <td>80.113075</td>\n",
       "      <td>23314500</td>\n",
       "    </tr>\n",
       "    <tr>\n",
       "      <th>2022-12-29</th>\n",
       "      <td>89.000000</td>\n",
       "      <td>89.949997</td>\n",
       "      <td>88.830002</td>\n",
       "      <td>88.879997</td>\n",
       "      <td>80.014046</td>\n",
       "      <td>40110800</td>\n",
       "    </tr>\n",
       "  </tbody>\n",
       "</table>\n",
       "<p>1239 rows × 6 columns</p>\n",
       "</div>"
      ],
      "text/plain": [
       "                 Open       High        Low      Close  Adj Close    Volume\n",
       "Date                                                                       \n",
       "2018-01-02  40.439999  41.740002  40.439999  41.720001  26.179440  14156500\n",
       "2018-01-03  41.830002  41.880001  41.299999  41.470001  26.022556  12744200\n",
       "2018-01-04  41.810001  42.369999  41.520000  41.639999  26.129232  18433000\n",
       "2018-01-05  41.570000  42.290001  41.310001  42.290001  26.537107  15251300\n",
       "2018-01-08  42.400002  43.230000  42.400002  43.230000  27.126963  14542800\n",
       "...               ...        ...        ...        ...        ...       ...\n",
       "2022-12-23  85.279999  86.519997  85.080002  86.320000  77.709404  18656500\n",
       "2022-12-26  86.419998  87.540001  86.330002  87.110001  78.420601  18407500\n",
       "2022-12-27  88.000000  89.650002  87.470001  89.190002  80.293121  26720300\n",
       "2022-12-28  89.190002  90.209999  88.699997  88.989998  80.113075  23314500\n",
       "2022-12-29  89.000000  89.949997  88.830002  88.879997  80.014046  40110800\n",
       "\n",
       "[1239 rows x 6 columns]"
      ]
     },
     "execution_count": 142,
     "metadata": {},
     "output_type": "execute_result"
    }
   ],
   "source": [
    "# Exibo os dados obtidos.\n",
    "VALE_data"
   ]
  },
  {
   "cell_type": "markdown",
   "metadata": {},
   "source": [
    "##### **Questão 1 - b)**\n",
    "*Obtenha dados diários de um conjunto de 10 ações da B3 (inclua a VALE3 e escolha as outras 9); agrupe-as da forma que preferir. Depois, filtre para obter um dataframe apenas com o preço de fechamento ajustado*"
   ]
  },
  {
   "cell_type": "code",
   "execution_count": 137,
   "metadata": {},
   "outputs": [],
   "source": [
    "def get_tickers_data(tickers_list, start_date, end_date):\n",
    "    '''\n",
    "        Description: ...\n",
    "        \n",
    "        Args:\n",
    "            tickers_list (list): Lista contendo as strings que representam os tickers das empresas cujos dados das ações serão obtidos.\n",
    "            start_date (datetime.date()): Data inicial do intervalo onde os dados serão extraidos.\n",
    "            end_date (datetime.date()): Data final do intervalo onde os dados serão extraidos.\n",
    "        \n",
    "        Return:\n",
    "            result (pd.DataFrame): DataFrame contendo os preços de fechamento ajustado durante o período compreendido entre \"start_date\"\n",
    "            e \"end_date\" de todas as empresas cujo ticker esta em \"tickers_list\".       \n",
    "            \n",
    "        Obs: Pode ocorrer que alguma das empresas cujo ticker esta em \"tickers_list\" tenha sido listada na B3 após a data \"start_date\", caso isso\n",
    "        ocorra, o preço de fechamento ajustado de tal empresa será setado como 0 em todas as datas a partir de \"start_date\" até a data em que \n",
    "        essa empresa foi listada na B3.\n",
    "    '''\n",
    "    \n",
    "    # Por conta da variável \"index_union\" que será criada mais abaixo, trataremos o download dos dados do primeiro ticker de forma separada.\n",
    "    # Obtem os dados do primeiro ticker.\n",
    "    first_ticket = yf.download(tickers_list[0], start_date, end_date)\n",
    "    # Cria uma variável que conterá a união (no sentido de conjuntos) de todos os índices de cada um dos tickers pertencentes a \"ticker_list\".\n",
    "    # Ou seja, essa variável guardará os índices (que são as datas onde ocorreu negociação na B3) do ticker pertencente a \"ticker_list\" que foi\n",
    "    # listado primeiro na B3. Faremos isso visando a padronização citada na observação da docstring dessa função.\n",
    "    index_union = first_ticket.index\n",
    "    # Cria uma lista para guardar as séries que representam o \"Adj Close\" de cada um dos tickers em \"ticker_list\".\n",
    "    series_list = []\n",
    "    # Adiciona a série \"Adj Close\" do primeiro ticker em \"ticker_list\" a lista \"series_list\".\n",
    "    series_list.append(first_ticket['Adj Close'])\n",
    "    \n",
    "    # Percorre todos os tickers em ticker_list com exceção do primeiro.\n",
    "    for ticker in tickers_list[1:]:\n",
    "        try:\n",
    "            # Faz o download dos dados ticker em questão no período compreendido entre \"start_date\" e \"end_date\".\n",
    "            ticker_data = yf.download(ticker, start_date, end_date)\n",
    "        except Exception as e:\n",
    "            print(f\"Erro ao baixar os dados do ticker {ticker}: {e}\")\n",
    "            continue\n",
    "        # Faz a união dos índices do ticker em questão com todos os índices dos tickers que foram unidos até então.\n",
    "        index_union = index_union.union(ticker_data.index)\n",
    "        # Adiciona a série \"Adj Close\" do ticker em questão a lista \"series_list\".\n",
    "        series_list.append(ticker_data['Adj Close'])\n",
    "        \n",
    "    # Reindexa todas as séries contidas em \"series_list\" levando em conta os índices em \"index_union\" e preenche eventuais valores faltantes\n",
    "    # como zero.\n",
    "    reindexed_serie_list = [serie.reindex(index_union, fill_value = 0) for serie in series_list]\n",
    "    \n",
    "    # Concatena todas as séries que foram reindexadas acima em um único DataFrame e usa o ticker de cada uma das séries como chave para\n",
    "    # criar níveis superiores.\n",
    "    result = pd.concat(reindexed_serie_list, axis=1, keys=tickers_list)\n",
    "    \n",
    "    # Retorna o DataFrame criado acima.\n",
    "    return result"
   ]
  },
  {
   "cell_type": "code",
   "execution_count": 134,
   "metadata": {},
   "outputs": [
    {
     "name": "stderr",
     "output_type": "stream",
     "text": [
      "[*********************100%%**********************]  1 of 1 completed\n",
      "[*********************100%%**********************]  1 of 1 completed\n",
      "[*********************100%%**********************]  1 of 1 completed\n",
      "[*********************100%%**********************]  1 of 1 completed\n",
      "[*********************100%%**********************]  1 of 1 completed\n",
      "[*********************100%%**********************]  1 of 1 completed\n",
      "[*********************100%%**********************]  1 of 1 completed\n",
      "[*********************100%%**********************]  1 of 1 completed\n",
      "[*********************100%%**********************]  1 of 1 completed\n",
      "[*********************100%%**********************]  1 of 1 completed\n"
     ]
    }
   ],
   "source": [
    "# Cria uma lista que contém todos os tickers que estão na variável de configuração \"setup\".\n",
    "tickers_list = list(setup[\"tickers\"].values())\n",
    "# Obtem alguns dados relacionados as ações de cada um dos tickers presentes na \"tickers_list\" criada acima.\n",
    "tickers_list_data = get_tickers_data(tickers_list, setup['start_date'], setup['end_date'])"
   ]
  },
  {
   "cell_type": "code",
   "execution_count": 135,
   "metadata": {},
   "outputs": [
    {
     "data": {
      "text/html": [
       "<div>\n",
       "<style scoped>\n",
       "    .dataframe tbody tr th:only-of-type {\n",
       "        vertical-align: middle;\n",
       "    }\n",
       "\n",
       "    .dataframe tbody tr th {\n",
       "        vertical-align: top;\n",
       "    }\n",
       "\n",
       "    .dataframe thead th {\n",
       "        text-align: right;\n",
       "    }\n",
       "</style>\n",
       "<table border=\"1\" class=\"dataframe\">\n",
       "  <thead>\n",
       "    <tr style=\"text-align: right;\">\n",
       "      <th></th>\n",
       "      <th>VALE3.SA</th>\n",
       "      <th>BBAS3.SA</th>\n",
       "      <th>BBDC3.SA</th>\n",
       "      <th>ITUB4.SA</th>\n",
       "      <th>BPAC11.SA</th>\n",
       "      <th>BPAN4.SA</th>\n",
       "      <th>BSLI3.SA</th>\n",
       "      <th>BMGB4.SA</th>\n",
       "      <th>SANB11.SA</th>\n",
       "      <th>BRBI11.SA</th>\n",
       "    </tr>\n",
       "    <tr>\n",
       "      <th>Date</th>\n",
       "      <th></th>\n",
       "      <th></th>\n",
       "      <th></th>\n",
       "      <th></th>\n",
       "      <th></th>\n",
       "      <th></th>\n",
       "      <th></th>\n",
       "      <th></th>\n",
       "      <th></th>\n",
       "      <th></th>\n",
       "    </tr>\n",
       "  </thead>\n",
       "  <tbody>\n",
       "    <tr>\n",
       "      <th>2018-01-02</th>\n",
       "      <td>26.179440</td>\n",
       "      <td>10.871194</td>\n",
       "      <td>13.229095</td>\n",
       "      <td>21.514576</td>\n",
       "      <td>3.830503</td>\n",
       "      <td>1.526437</td>\n",
       "      <td>2.797653</td>\n",
       "      <td>0.000000</td>\n",
       "      <td>20.632025</td>\n",
       "      <td>0.000000</td>\n",
       "    </tr>\n",
       "    <tr>\n",
       "      <th>2018-01-03</th>\n",
       "      <td>26.022556</td>\n",
       "      <td>11.009845</td>\n",
       "      <td>13.285377</td>\n",
       "      <td>21.661661</td>\n",
       "      <td>3.866982</td>\n",
       "      <td>1.542589</td>\n",
       "      <td>2.797653</td>\n",
       "      <td>0.000000</td>\n",
       "      <td>20.461823</td>\n",
       "      <td>0.000000</td>\n",
       "    </tr>\n",
       "    <tr>\n",
       "      <th>2018-01-04</th>\n",
       "      <td>26.129232</td>\n",
       "      <td>11.115490</td>\n",
       "      <td>13.527297</td>\n",
       "      <td>22.112755</td>\n",
       "      <td>3.881170</td>\n",
       "      <td>1.518360</td>\n",
       "      <td>2.797653</td>\n",
       "      <td>0.000000</td>\n",
       "      <td>20.707668</td>\n",
       "      <td>0.000000</td>\n",
       "    </tr>\n",
       "    <tr>\n",
       "      <th>2018-01-05</th>\n",
       "      <td>26.537107</td>\n",
       "      <td>11.115490</td>\n",
       "      <td>13.531404</td>\n",
       "      <td>22.176497</td>\n",
       "      <td>3.945339</td>\n",
       "      <td>1.558742</td>\n",
       "      <td>2.797653</td>\n",
       "      <td>0.000000</td>\n",
       "      <td>20.928297</td>\n",
       "      <td>0.000000</td>\n",
       "    </tr>\n",
       "    <tr>\n",
       "      <th>2018-01-08</th>\n",
       "      <td>27.126963</td>\n",
       "      <td>11.141896</td>\n",
       "      <td>13.531404</td>\n",
       "      <td>22.102942</td>\n",
       "      <td>3.993685</td>\n",
       "      <td>1.582971</td>\n",
       "      <td>2.797653</td>\n",
       "      <td>0.000000</td>\n",
       "      <td>21.333405</td>\n",
       "      <td>0.000000</td>\n",
       "    </tr>\n",
       "    <tr>\n",
       "      <th>...</th>\n",
       "      <td>...</td>\n",
       "      <td>...</td>\n",
       "      <td>...</td>\n",
       "      <td>...</td>\n",
       "      <td>...</td>\n",
       "      <td>...</td>\n",
       "      <td>...</td>\n",
       "      <td>...</td>\n",
       "      <td>...</td>\n",
       "      <td>...</td>\n",
       "    </tr>\n",
       "    <tr>\n",
       "      <th>2022-12-23</th>\n",
       "      <td>77.709404</td>\n",
       "      <td>15.713290</td>\n",
       "      <td>11.620030</td>\n",
       "      <td>22.857914</td>\n",
       "      <td>23.483845</td>\n",
       "      <td>6.044343</td>\n",
       "      <td>17.366062</td>\n",
       "      <td>1.824207</td>\n",
       "      <td>25.461121</td>\n",
       "      <td>9.580055</td>\n",
       "    </tr>\n",
       "    <tr>\n",
       "      <th>2022-12-26</th>\n",
       "      <td>78.420601</td>\n",
       "      <td>15.691021</td>\n",
       "      <td>11.350404</td>\n",
       "      <td>22.404211</td>\n",
       "      <td>22.899145</td>\n",
       "      <td>5.927240</td>\n",
       "      <td>17.366062</td>\n",
       "      <td>1.798753</td>\n",
       "      <td>25.172199</td>\n",
       "      <td>9.486879</td>\n",
       "    </tr>\n",
       "    <tr>\n",
       "      <th>2022-12-27</th>\n",
       "      <td>80.293121</td>\n",
       "      <td>15.169920</td>\n",
       "      <td>11.419987</td>\n",
       "      <td>22.277166</td>\n",
       "      <td>22.362370</td>\n",
       "      <td>5.862934</td>\n",
       "      <td>17.366062</td>\n",
       "      <td>1.798753</td>\n",
       "      <td>25.253456</td>\n",
       "      <td>9.275120</td>\n",
       "    </tr>\n",
       "    <tr>\n",
       "      <th>2022-12-28</th>\n",
       "      <td>80.113075</td>\n",
       "      <td>15.441605</td>\n",
       "      <td>11.767889</td>\n",
       "      <td>22.730875</td>\n",
       "      <td>23.474258</td>\n",
       "      <td>6.039875</td>\n",
       "      <td>17.710436</td>\n",
       "      <td>1.832692</td>\n",
       "      <td>25.641695</td>\n",
       "      <td>9.529232</td>\n",
       "    </tr>\n",
       "    <tr>\n",
       "      <th>2022-12-29</th>\n",
       "      <td>80.014046</td>\n",
       "      <td>15.468327</td>\n",
       "      <td>11.715705</td>\n",
       "      <td>22.685505</td>\n",
       "      <td>22.937485</td>\n",
       "      <td>5.922785</td>\n",
       "      <td>17.710436</td>\n",
       "      <td>1.866630</td>\n",
       "      <td>25.461121</td>\n",
       "      <td>10.071341</td>\n",
       "    </tr>\n",
       "  </tbody>\n",
       "</table>\n",
       "<p>1239 rows × 10 columns</p>\n",
       "</div>"
      ],
      "text/plain": [
       "             VALE3.SA   BBAS3.SA   BBDC3.SA   ITUB4.SA  BPAC11.SA  BPAN4.SA  \\\n",
       "Date                                                                          \n",
       "2018-01-02  26.179440  10.871194  13.229095  21.514576   3.830503  1.526437   \n",
       "2018-01-03  26.022556  11.009845  13.285377  21.661661   3.866982  1.542589   \n",
       "2018-01-04  26.129232  11.115490  13.527297  22.112755   3.881170  1.518360   \n",
       "2018-01-05  26.537107  11.115490  13.531404  22.176497   3.945339  1.558742   \n",
       "2018-01-08  27.126963  11.141896  13.531404  22.102942   3.993685  1.582971   \n",
       "...               ...        ...        ...        ...        ...       ...   \n",
       "2022-12-23  77.709404  15.713290  11.620030  22.857914  23.483845  6.044343   \n",
       "2022-12-26  78.420601  15.691021  11.350404  22.404211  22.899145  5.927240   \n",
       "2022-12-27  80.293121  15.169920  11.419987  22.277166  22.362370  5.862934   \n",
       "2022-12-28  80.113075  15.441605  11.767889  22.730875  23.474258  6.039875   \n",
       "2022-12-29  80.014046  15.468327  11.715705  22.685505  22.937485  5.922785   \n",
       "\n",
       "             BSLI3.SA  BMGB4.SA  SANB11.SA  BRBI11.SA  \n",
       "Date                                                   \n",
       "2018-01-02   2.797653  0.000000  20.632025   0.000000  \n",
       "2018-01-03   2.797653  0.000000  20.461823   0.000000  \n",
       "2018-01-04   2.797653  0.000000  20.707668   0.000000  \n",
       "2018-01-05   2.797653  0.000000  20.928297   0.000000  \n",
       "2018-01-08   2.797653  0.000000  21.333405   0.000000  \n",
       "...               ...       ...        ...        ...  \n",
       "2022-12-23  17.366062  1.824207  25.461121   9.580055  \n",
       "2022-12-26  17.366062  1.798753  25.172199   9.486879  \n",
       "2022-12-27  17.366062  1.798753  25.253456   9.275120  \n",
       "2022-12-28  17.710436  1.832692  25.641695   9.529232  \n",
       "2022-12-29  17.710436  1.866630  25.461121  10.071341  \n",
       "\n",
       "[1239 rows x 10 columns]"
      ]
     },
     "execution_count": 135,
     "metadata": {},
     "output_type": "execute_result"
    }
   ],
   "source": [
    "# Exibe os dados obtidos.\n",
    "tickers_list_data"
   ]
  },
  {
   "cell_type": "markdown",
   "metadata": {},
   "source": [
    "##### **Questão 1 - c)**\n",
    "\n",
    "*Faça um único gráfico contendo a série temporal do preço de fechamento ajustado de cada uma das 10 ações que você escolheu no item anterior.*"
   ]
  },
  {
   "cell_type": "code",
   "execution_count": null,
   "metadata": {},
   "outputs": [],
   "source": [
    "'''\n",
    "def plot_adjusted_close_prices(adjusted_data):\n",
    "    \n",
    "        Description:\n",
    "            Esta função plota as séries temporais dos preços de fechamento ajustados de várias ações. As séries temporais são \n",
    "            geradas para cada ticker presente nas colunas do DataFrame \"adjusted_data\" e são plotadas entre o período \"start_date\"\n",
    "            e \"end_date\", sendo essas duas últimas variáveis setadas na variável de configuração \"setup\".\n",
    "        Args:\n",
    "            adjusted_data (pandas.DataFrame): DataFrame contendo os preços de fechamento ajustado das ações, com tickers \n",
    "            como colunas e datas como índice. Cada coluna deve ser uma série temporal dos preços de fechamento ajustado \n",
    "            para um ticker específico.\n",
    "\n",
    "        Return:\n",
    "            None: A função exibe o gráfico gerado, mas não retorna nenhum valor.\n",
    "        \n",
    "    \n",
    "    # Cria uma lista de timestamps que representará o eixo x do gráfico que será plotado.\n",
    "    x_axis = adjusted_data.index.tolist()\n",
    "\n",
    "    # Cria a figura onde será plotado o gráfico.\n",
    "    fig = go.Figure()\n",
    "\n",
    "    # Adiciona cada série temporal ao gráfico.\n",
    "    for i, multi_index in enumerate(adjusted_data.columns):\n",
    "        # Obtem o nome do ticker em questão.\n",
    "        ticker = multi_index[0]\n",
    "        # Cria uma lista auxiliar que é na verdade uma lista de listas (np.ndarray).\n",
    "        list_of_lists = adjusted_data[ticker].values.tolist()\n",
    "        # Transforma a lista de listas acima em uma lista comum e usa tal lista como eixo y da série temporal em questão.\n",
    "        y_axis = [item for sublist in list_of_lists for item in sublist]\n",
    "        # Adiciona a série temporal em questão ao gráfico.\n",
    "        fig.add_trace(go.Scatter(x = x_axis, y = y_axis, mode=\"lines\", name=ticker))\n",
    "    \n",
    "    # Atualiza o layout para permitir destaque ao clicar na legenda.\n",
    "    fig.update_layout(\n",
    "        title='Série temporal do preço de fechamento ajustado de algumas ações',\n",
    "        xaxis_title='Data',\n",
    "        yaxis_title='Valor da Ação',\n",
    "        legend_title='Ações',\n",
    "        hovermode='x unified',\n",
    "        clickmode='event+select'\n",
    "    )\n",
    "\n",
    "    # Callback para destacar a linha ao clicar na legenda.\n",
    "    fig.update_traces(\n",
    "        marker=dict(size=12),\n",
    "        selector=dict(mode='markers')\n",
    "    )\n",
    "\n",
    "    # Exibe o gráfico criado.\n",
    "    fig.show()\n",
    "'''"
   ]
  },
  {
   "cell_type": "code",
   "execution_count": null,
   "metadata": {},
   "outputs": [],
   "source": [
    "# Plota o gráfico que contém a série temporal do preço de fechamento ajustado das ações existentes no DataFrame \"adjusted_data\".\n",
    "#plot_adjusted_close_prices(adjusted_data)"
   ]
  },
  {
   "cell_type": "markdown",
   "metadata": {},
   "source": [
    "##### **Questão 1 - d)**\n",
    "\n",
    "*Escolha uma das 10 ações e faça um gráfico contendo a média móvel dos últimos 20 dias do preço de fechamento, mais as bandas de Bollinger (dois desvios para cima e dois desvios para baixo). O que a média móvel representa e porque usar as bandas de Bollinger?*"
   ]
  },
  {
   "cell_type": "code",
   "execution_count": null,
   "metadata": {},
   "outputs": [],
   "source": []
  },
  {
   "cell_type": "markdown",
   "metadata": {},
   "source": [
    "**O que a média móvel representa e porque usar as bandas de Bollinger?**\n",
    "\n",
    "*Resposta aqui*"
   ]
  },
  {
   "cell_type": "markdown",
   "metadata": {},
   "source": [
    "##### **Questão 1 - e)**\n",
    "*Faça um único gráfico contendo o preço de fechamento da ação escolhida e seu Volume (negociado no dia)*"
   ]
  },
  {
   "cell_type": "code",
   "execution_count": null,
   "metadata": {},
   "outputs": [],
   "source": []
  },
  {
   "cell_type": "markdown",
   "metadata": {},
   "source": [
    "##### **Questão 1 - f)**\n",
    "\n",
    "*Faça um gráfico de dispersão (do preço de fechamento ajustado) entre o ativo escolhido anteriormente e outro de sua escolha. Qual sua interpretação?*"
   ]
  },
  {
   "cell_type": "code",
   "execution_count": null,
   "metadata": {},
   "outputs": [],
   "source": []
  },
  {
   "cell_type": "markdown",
   "metadata": {},
   "source": [
    "**Interpretação do gráfico de dispersão acima**\n",
    "\n",
    "*Resposta aqui*"
   ]
  },
  {
   "cell_type": "markdown",
   "metadata": {},
   "source": [
    "##### **Desafio: Faça um gráfico candle stick da ação escolhida.**"
   ]
  },
  {
   "cell_type": "code",
   "execution_count": null,
   "metadata": {},
   "outputs": [],
   "source": []
  }
 ],
 "metadata": {
  "kernelspec": {
   "display_name": "Python 3",
   "language": "python",
   "name": "python3"
  },
  "language_info": {
   "codemirror_mode": {
    "name": "ipython",
    "version": 3
   },
   "file_extension": ".py",
   "mimetype": "text/x-python",
   "name": "python",
   "nbconvert_exporter": "python",
   "pygments_lexer": "ipython3",
   "version": "3.10.12"
  }
 },
 "nbformat": 4,
 "nbformat_minor": 2
}
